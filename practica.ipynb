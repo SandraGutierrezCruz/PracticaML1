{
 "cells": [
  {
   "cell_type": "code",
   "execution_count": 14,
   "id": "6b6d9068",
   "metadata": {},
   "outputs": [],
   "source": [
    "import pandas as pd\n",
    "import numpy as np\n",
    "from sklearn.model_selection import train_test_split\n",
    "from sklearn.naive_bayes import GaussianNB, BernoulliNB, CategoricalNB\n",
    "from scipy.stats import multivariate_normal as mvn\n",
    "from sklearn.feature_selection import VarianceThreshold\n",
    "from sklearn.mixture import GaussianMixture"
   ]
  },
  {
   "cell_type": "markdown",
   "id": "04148279",
   "metadata": {},
   "source": [
    "**1-Entrenamiento**"
   ]
  },
  {
   "cell_type": "markdown",
   "id": "6be470f1",
   "metadata": {},
   "source": [
    "Carga de los datos de entrenamiento "
   ]
  },
  {
   "cell_type": "code",
   "execution_count": 3,
   "id": "fa303cb2",
   "metadata": {},
   "outputs": [
    {
     "name": "stdout",
     "output_type": "stream",
     "text": [
      "      Temperature  Humidity  PM2.5  PM10  NO2  SO2   CO  \\\n",
      "41            3.0       6.0    2.0   2.0  4.0  5.0  3.0   \n",
      "3777          1.0       2.0    0.0   0.0  3.0  1.0  1.0   \n",
      "2998          2.0       3.0    0.0   0.0  2.0  1.0  1.0   \n",
      "4469          6.0       2.0    5.0   5.0  5.0  5.0  2.0   \n",
      "3422          2.0       1.0    0.0   0.0  0.0  2.0  1.0   \n",
      "\n",
      "      Proximity_to_Industrial_Areas  Population_Density  \n",
      "41                              0.0                 7.0  \n",
      "3777                            3.0                 3.0  \n",
      "2998                            3.0                 0.0  \n",
      "4469                            0.0                 6.0  \n",
      "3422                            3.0                 2.0  \n",
      "     Air_Quality\n",
      "41          Poor\n",
      "3777        Good\n",
      "2998        Good\n",
      "4469        Poor\n",
      "3422        Good\n"
     ]
    }
   ],
   "source": [
    "x_train = pd.read_csv('practica_X_train.csv', sep=';', index_col=0)\n",
    "y_train = pd.read_csv('practica_Y_train.csv', sep=';', index_col=0)\n",
    "\n",
    "print(x_train.head())\n",
    "print(y_train.head())\n",
    "\n",
    "#recomendado hacer k_fold para conjunto de entrenamiento y validacion"
   ]
  },
  {
   "cell_type": "markdown",
   "id": "54bce256",
   "metadata": {},
   "source": [
    "1.1 Preprocesado ejemplos"
   ]
  },
  {
   "cell_type": "markdown",
   "id": "1af6c3ed",
   "metadata": {},
   "source": [
    "Como el conjunto de datos x_train son datos continuos y en el enunciado se nos dice que no tenemos valores perdidos y en los modelos de Naive Bayes, MVN y GMM los datos de tipo continuo son buenas entradas. \n",
    "\n",
    "Por lo tanto, el único preprocesado que sería necesario para poder trabajar con el coinjunto de test es codificar el atributo categórico del conjunto de y_train y aplicar un filtrado por varianza al conjunto de datos de x_train para descartar aquellas columnas que no aporten información. "
   ]
  },
  {
   "cell_type": "code",
   "execution_count": 4,
   "id": "311dd3c4",
   "metadata": {},
   "outputs": [],
   "source": [
    "#filtrado por varianza conjunto x_train\n",
    "thereshold = 0.1\n",
    "\n",
    "sel = VarianceThreshold(threshold=thereshold)\n",
    "sel.set_output(transform='pandas')\n",
    "x_train = sel.fit_transform(x_train)"
   ]
  },
  {
   "cell_type": "code",
   "execution_count": 5,
   "id": "eb089d95",
   "metadata": {},
   "outputs": [
    {
     "name": "stdout",
     "output_type": "stream",
     "text": [
      "      Air_Quality\n",
      "41              0\n",
      "3777            1\n",
      "2998            1\n",
      "4469            0\n",
      "3422            1\n"
     ]
    }
   ],
   "source": [
    "#codificación conjunto y_train\n",
    "categoria = y_train['Air_Quality'].unique()\n",
    "categoria_codificada ={string:i for i,string in enumerate(categoria)} #diccionario de codificación\n",
    "cat = y_train['Air_Quality'].map(categoria_codificada)\n",
    "\n",
    "y_train['Air_Quality'] = cat\n",
    "print(y_train.head())"
   ]
  },
  {
   "cell_type": "markdown",
   "id": "fadf2036",
   "metadata": {},
   "source": [
    "1.2 Construcción modelo a priori de la etiqueta (cada nivel de calidad del aire tiene un número difernte de ejemplos)"
   ]
  },
  {
   "cell_type": "code",
   "execution_count": 6,
   "id": "4ef2fe70",
   "metadata": {},
   "outputs": [
    {
     "name": "stdout",
     "output_type": "stream",
     "text": [
      "Probabilidades a priori: \n",
      "Air_Quality\n",
      "1    0.4\n",
      "2    0.3\n",
      "0    0.2\n",
      "3    0.1\n",
      "Name: count, dtype: float64\n"
     ]
    }
   ],
   "source": [
    "clases = y_train['Air_Quality'].value_counts()  # Cantidad de todas las soluciones distintas\n",
    "Probs_priori = clases / len(y_train)\n",
    "print(\"Probabilidades a priori: \")\n",
    "print(Probs_priori)"
   ]
  },
  {
   "cell_type": "markdown",
   "id": "321b8b46",
   "metadata": {},
   "source": [
    "1.3 Construir distintos modelos de verosimilitud"
   ]
  },
  {
   "cell_type": "markdown",
   "id": "03a9b6ad",
   "metadata": {},
   "source": [
    "Naive Bayes "
   ]
  },
  {
   "cell_type": "markdown",
   "id": "3bc6dc96",
   "metadata": {},
   "source": [
    "Primer modelo posible con GaussianNB"
   ]
  },
  {
   "cell_type": "code",
   "execution_count": 7,
   "id": "c00d0261",
   "metadata": {},
   "outputs": [
    {
     "name": "stdout",
     "output_type": "stream",
     "text": [
      "Probabilidades a priori con Naive Bayes Gassiano:\n",
      "[0.2 0.4 0.3 0.1]\n",
      "acc con conjunto train: 0.9175\n"
     ]
    }
   ],
   "source": [
    "naive_bayes_gaussian = GaussianNB()\n",
    "naive_bayes_gaussian.fit(x_train, y_train.values.ravel()) # con y_train.values.ravel() \n",
    "                                                 # cambiamos de lista pandas a numpy\n",
    "                                                 # Es para que solo nos den los valores \n",
    "                                                 # Sino te da un enlace raro tambien\n",
    "print(\"Probabilidades a priori con Naive Bayes Gassiano:\") \n",
    "print(naive_bayes_gaussian.class_prior_) # Solo para comprobar las probabilidades de las clases\n",
    "\n",
    "predicciones_g = naive_bayes_gaussian.predict(x_train)\n",
    "cont = 0\n",
    "for y_hat, y_true in zip(predicciones_g, y_train.values.ravel()):\n",
    "    if (y_true == y_hat):\n",
    "        cont += 1\n",
    "print(\"acc con conjunto train:\", cont / len(predicciones_g))\n"
   ]
  },
  {
   "cell_type": "markdown",
   "id": "3e7f32d5",
   "metadata": {},
   "source": [
    "Segundo modelo posible con CategoricalNB"
   ]
  },
  {
   "cell_type": "code",
   "execution_count": 8,
   "id": "78973031",
   "metadata": {},
   "outputs": [
    {
     "name": "stdout",
     "output_type": "stream",
     "text": [
      "acc con conjunto train: 0.95\n"
     ]
    }
   ],
   "source": [
    "naive_bayes_categorical = CategoricalNB()\n",
    "naive_bayes_categorical.fit(x_train, y_train.values.ravel())\n",
    "\n",
    "predicciones_c = naive_bayes_categorical.predict(x_train)\n",
    "cont = 0\n",
    "for y_hat, y_true in zip(predicciones_c, y_train.values.ravel()):\n",
    "    if (y_true == y_hat):\n",
    "        cont += 1\n",
    "        \n",
    "print(\"acc con conjunto train:\", cont / len(predicciones_c))"
   ]
  },
  {
   "cell_type": "markdown",
   "id": "f9a7b778",
   "metadata": {},
   "source": [
    "Tercer modelo posible BernoulliNB"
   ]
  },
  {
   "cell_type": "code",
   "execution_count": 13,
   "id": "09f1c284",
   "metadata": {},
   "outputs": [
    {
     "name": "stdout",
     "output_type": "stream",
     "text": [
      "acc con conjunto train: 0.61675\n"
     ]
    }
   ],
   "source": [
    "naive_bayes_bernoulli = BernoulliNB(alpha= 1)\n",
    "naive_bayes_bernoulli.fit(x_train, y_train.values.ravel())\n",
    "\n",
    "predicciones_b = naive_bayes_bernoulli.predict(x_train)\n",
    "cont = 0\n",
    "for y_hat, y_true in zip(predicciones_b, y_train.values.ravel()):\n",
    "    if (y_true == y_hat):\n",
    "        cont += 1\n",
    "print(\"acc con conjunto train:\", cont / len(predicciones_b))"
   ]
  },
  {
   "cell_type": "markdown",
   "id": "0e00c440",
   "metadata": {},
   "source": [
    "MVN"
   ]
  },
  {
   "cell_type": "code",
   "execution_count": 10,
   "id": "4662bb81",
   "metadata": {},
   "outputs": [],
   "source": [
    "def train_mvn(Y_TRAIN, X_TRAIN):\n",
    "    estadisticas_modelo = {}\n",
    "    clases = np.unique(Y_TRAIN)\n",
    "    for clase in clases:\n",
    "        datos_clase = X_TRAIN[Y_TRAIN == clase]\n",
    "\n",
    "        media = np.mean(datos_clase, axis=0)\n",
    "        covarianza = np.cov(datos_clase, rowvar=False)\n",
    "        covarianza += np.eye(covarianza.shape[0]) * 1e-6\n",
    "\n",
    "        modelo = mvn(mean=media, cov=covarianza)\n",
    "\n",
    "        estadisticas_modelo[clase] = {\"media\": media, \"covarianza\": covarianza, \"modelo\": modelo}\n",
    "    return estadisticas_modelo\n",
    "\n",
    "def predict_mvn(x_a_predecir, estadisticas):\n",
    "    # Predecimos probabilidades primero\n",
    "    probs = []\n",
    "    clases = list(estadisticas.keys())\n",
    "    for clase in clases:\n",
    "        modelo = estadisticas[clase][\"modelo\"]\n",
    "        p = modelo.logpdf(x_a_predecir)\n",
    "        probs.append(p)\n",
    "    probs = np.array(probs).T\n",
    "    y_hat = np.argmax(probs, axis=1)\n",
    "    return np.array(clases)[y_hat]\n",
    "    "
   ]
  },
  {
   "cell_type": "code",
   "execution_count": 11,
   "id": "936ad8d4",
   "metadata": {},
   "outputs": [
    {
     "name": "stdout",
     "output_type": "stream",
     "text": [
      "acc con conjunto train:  0.92625\n"
     ]
    }
   ],
   "source": [
    "y_train_flat = y_train.values.ravel()\n",
    "\n",
    "estadisticas_MVN = train_mvn(y_train_flat, x_train.values)\n",
    "\n",
    "y_hat = predict_mvn(x_train.values, estadisticas_MVN)\n",
    "acc = np.mean(y_hat == y_train_flat)\n",
    "print(\"acc con conjunto train: \", acc)"
   ]
  },
  {
   "cell_type": "markdown",
   "id": "df495503",
   "metadata": {},
   "source": [
    "GMM"
   ]
  },
  {
   "cell_type": "code",
   "execution_count": 43,
   "id": "e7e10af8",
   "metadata": {},
   "outputs": [
    {
     "name": "stderr",
     "output_type": "stream",
     "text": [
      "c:\\Users\\sandr\\AppData\\Local\\Programs\\Python\\Python312\\Lib\\site-packages\\sklearn\\mixture\\_base.py:268: ConvergenceWarning: Initialization 1 did not converge. Try different init parameters, or increase max_iter, tol or check for degenerate data.\n",
      "  warnings.warn(\n",
      "c:\\Users\\sandr\\AppData\\Local\\Programs\\Python\\Python312\\Lib\\site-packages\\sklearn\\mixture\\_base.py:268: ConvergenceWarning: Initialization 1 did not converge. Try different init parameters, or increase max_iter, tol or check for degenerate data.\n",
      "  warnings.warn(\n"
     ]
    },
    {
     "data": {
      "text/html": [
       "<style>#sk-container-id-10 {\n",
       "  /* Definition of color scheme common for light and dark mode */\n",
       "  --sklearn-color-text: black;\n",
       "  --sklearn-color-line: gray;\n",
       "  /* Definition of color scheme for unfitted estimators */\n",
       "  --sklearn-color-unfitted-level-0: #fff5e6;\n",
       "  --sklearn-color-unfitted-level-1: #f6e4d2;\n",
       "  --sklearn-color-unfitted-level-2: #ffe0b3;\n",
       "  --sklearn-color-unfitted-level-3: chocolate;\n",
       "  /* Definition of color scheme for fitted estimators */\n",
       "  --sklearn-color-fitted-level-0: #f0f8ff;\n",
       "  --sklearn-color-fitted-level-1: #d4ebff;\n",
       "  --sklearn-color-fitted-level-2: #b3dbfd;\n",
       "  --sklearn-color-fitted-level-3: cornflowerblue;\n",
       "\n",
       "  /* Specific color for light theme */\n",
       "  --sklearn-color-text-on-default-background: var(--sg-text-color, var(--theme-code-foreground, var(--jp-content-font-color1, black)));\n",
       "  --sklearn-color-background: var(--sg-background-color, var(--theme-background, var(--jp-layout-color0, white)));\n",
       "  --sklearn-color-border-box: var(--sg-text-color, var(--theme-code-foreground, var(--jp-content-font-color1, black)));\n",
       "  --sklearn-color-icon: #696969;\n",
       "\n",
       "  @media (prefers-color-scheme: dark) {\n",
       "    /* Redefinition of color scheme for dark theme */\n",
       "    --sklearn-color-text-on-default-background: var(--sg-text-color, var(--theme-code-foreground, var(--jp-content-font-color1, white)));\n",
       "    --sklearn-color-background: var(--sg-background-color, var(--theme-background, var(--jp-layout-color0, #111)));\n",
       "    --sklearn-color-border-box: var(--sg-text-color, var(--theme-code-foreground, var(--jp-content-font-color1, white)));\n",
       "    --sklearn-color-icon: #878787;\n",
       "  }\n",
       "}\n",
       "\n",
       "#sk-container-id-10 {\n",
       "  color: var(--sklearn-color-text);\n",
       "}\n",
       "\n",
       "#sk-container-id-10 pre {\n",
       "  padding: 0;\n",
       "}\n",
       "\n",
       "#sk-container-id-10 input.sk-hidden--visually {\n",
       "  border: 0;\n",
       "  clip: rect(1px 1px 1px 1px);\n",
       "  clip: rect(1px, 1px, 1px, 1px);\n",
       "  height: 1px;\n",
       "  margin: -1px;\n",
       "  overflow: hidden;\n",
       "  padding: 0;\n",
       "  position: absolute;\n",
       "  width: 1px;\n",
       "}\n",
       "\n",
       "#sk-container-id-10 div.sk-dashed-wrapped {\n",
       "  border: 1px dashed var(--sklearn-color-line);\n",
       "  margin: 0 0.4em 0.5em 0.4em;\n",
       "  box-sizing: border-box;\n",
       "  padding-bottom: 0.4em;\n",
       "  background-color: var(--sklearn-color-background);\n",
       "}\n",
       "\n",
       "#sk-container-id-10 div.sk-container {\n",
       "  /* jupyter's `normalize.less` sets `[hidden] { display: none; }`\n",
       "     but bootstrap.min.css set `[hidden] { display: none !important; }`\n",
       "     so we also need the `!important` here to be able to override the\n",
       "     default hidden behavior on the sphinx rendered scikit-learn.org.\n",
       "     See: https://github.com/scikit-learn/scikit-learn/issues/21755 */\n",
       "  display: inline-block !important;\n",
       "  position: relative;\n",
       "}\n",
       "\n",
       "#sk-container-id-10 div.sk-text-repr-fallback {\n",
       "  display: none;\n",
       "}\n",
       "\n",
       "div.sk-parallel-item,\n",
       "div.sk-serial,\n",
       "div.sk-item {\n",
       "  /* draw centered vertical line to link estimators */\n",
       "  background-image: linear-gradient(var(--sklearn-color-text-on-default-background), var(--sklearn-color-text-on-default-background));\n",
       "  background-size: 2px 100%;\n",
       "  background-repeat: no-repeat;\n",
       "  background-position: center center;\n",
       "}\n",
       "\n",
       "/* Parallel-specific style estimator block */\n",
       "\n",
       "#sk-container-id-10 div.sk-parallel-item::after {\n",
       "  content: \"\";\n",
       "  width: 100%;\n",
       "  border-bottom: 2px solid var(--sklearn-color-text-on-default-background);\n",
       "  flex-grow: 1;\n",
       "}\n",
       "\n",
       "#sk-container-id-10 div.sk-parallel {\n",
       "  display: flex;\n",
       "  align-items: stretch;\n",
       "  justify-content: center;\n",
       "  background-color: var(--sklearn-color-background);\n",
       "  position: relative;\n",
       "}\n",
       "\n",
       "#sk-container-id-10 div.sk-parallel-item {\n",
       "  display: flex;\n",
       "  flex-direction: column;\n",
       "}\n",
       "\n",
       "#sk-container-id-10 div.sk-parallel-item:first-child::after {\n",
       "  align-self: flex-end;\n",
       "  width: 50%;\n",
       "}\n",
       "\n",
       "#sk-container-id-10 div.sk-parallel-item:last-child::after {\n",
       "  align-self: flex-start;\n",
       "  width: 50%;\n",
       "}\n",
       "\n",
       "#sk-container-id-10 div.sk-parallel-item:only-child::after {\n",
       "  width: 0;\n",
       "}\n",
       "\n",
       "/* Serial-specific style estimator block */\n",
       "\n",
       "#sk-container-id-10 div.sk-serial {\n",
       "  display: flex;\n",
       "  flex-direction: column;\n",
       "  align-items: center;\n",
       "  background-color: var(--sklearn-color-background);\n",
       "  padding-right: 1em;\n",
       "  padding-left: 1em;\n",
       "}\n",
       "\n",
       "\n",
       "/* Toggleable style: style used for estimator/Pipeline/ColumnTransformer box that is\n",
       "clickable and can be expanded/collapsed.\n",
       "- Pipeline and ColumnTransformer use this feature and define the default style\n",
       "- Estimators will overwrite some part of the style using the `sk-estimator` class\n",
       "*/\n",
       "\n",
       "/* Pipeline and ColumnTransformer style (default) */\n",
       "\n",
       "#sk-container-id-10 div.sk-toggleable {\n",
       "  /* Default theme specific background. It is overwritten whether we have a\n",
       "  specific estimator or a Pipeline/ColumnTransformer */\n",
       "  background-color: var(--sklearn-color-background);\n",
       "}\n",
       "\n",
       "/* Toggleable label */\n",
       "#sk-container-id-10 label.sk-toggleable__label {\n",
       "  cursor: pointer;\n",
       "  display: block;\n",
       "  width: 100%;\n",
       "  margin-bottom: 0;\n",
       "  padding: 0.5em;\n",
       "  box-sizing: border-box;\n",
       "  text-align: center;\n",
       "}\n",
       "\n",
       "#sk-container-id-10 label.sk-toggleable__label-arrow:before {\n",
       "  /* Arrow on the left of the label */\n",
       "  content: \"▸\";\n",
       "  float: left;\n",
       "  margin-right: 0.25em;\n",
       "  color: var(--sklearn-color-icon);\n",
       "}\n",
       "\n",
       "#sk-container-id-10 label.sk-toggleable__label-arrow:hover:before {\n",
       "  color: var(--sklearn-color-text);\n",
       "}\n",
       "\n",
       "/* Toggleable content - dropdown */\n",
       "\n",
       "#sk-container-id-10 div.sk-toggleable__content {\n",
       "  max-height: 0;\n",
       "  max-width: 0;\n",
       "  overflow: hidden;\n",
       "  text-align: left;\n",
       "  /* unfitted */\n",
       "  background-color: var(--sklearn-color-unfitted-level-0);\n",
       "}\n",
       "\n",
       "#sk-container-id-10 div.sk-toggleable__content.fitted {\n",
       "  /* fitted */\n",
       "  background-color: var(--sklearn-color-fitted-level-0);\n",
       "}\n",
       "\n",
       "#sk-container-id-10 div.sk-toggleable__content pre {\n",
       "  margin: 0.2em;\n",
       "  border-radius: 0.25em;\n",
       "  color: var(--sklearn-color-text);\n",
       "  /* unfitted */\n",
       "  background-color: var(--sklearn-color-unfitted-level-0);\n",
       "}\n",
       "\n",
       "#sk-container-id-10 div.sk-toggleable__content.fitted pre {\n",
       "  /* unfitted */\n",
       "  background-color: var(--sklearn-color-fitted-level-0);\n",
       "}\n",
       "\n",
       "#sk-container-id-10 input.sk-toggleable__control:checked~div.sk-toggleable__content {\n",
       "  /* Expand drop-down */\n",
       "  max-height: 200px;\n",
       "  max-width: 100%;\n",
       "  overflow: auto;\n",
       "}\n",
       "\n",
       "#sk-container-id-10 input.sk-toggleable__control:checked~label.sk-toggleable__label-arrow:before {\n",
       "  content: \"▾\";\n",
       "}\n",
       "\n",
       "/* Pipeline/ColumnTransformer-specific style */\n",
       "\n",
       "#sk-container-id-10 div.sk-label input.sk-toggleable__control:checked~label.sk-toggleable__label {\n",
       "  color: var(--sklearn-color-text);\n",
       "  background-color: var(--sklearn-color-unfitted-level-2);\n",
       "}\n",
       "\n",
       "#sk-container-id-10 div.sk-label.fitted input.sk-toggleable__control:checked~label.sk-toggleable__label {\n",
       "  background-color: var(--sklearn-color-fitted-level-2);\n",
       "}\n",
       "\n",
       "/* Estimator-specific style */\n",
       "\n",
       "/* Colorize estimator box */\n",
       "#sk-container-id-10 div.sk-estimator input.sk-toggleable__control:checked~label.sk-toggleable__label {\n",
       "  /* unfitted */\n",
       "  background-color: var(--sklearn-color-unfitted-level-2);\n",
       "}\n",
       "\n",
       "#sk-container-id-10 div.sk-estimator.fitted input.sk-toggleable__control:checked~label.sk-toggleable__label {\n",
       "  /* fitted */\n",
       "  background-color: var(--sklearn-color-fitted-level-2);\n",
       "}\n",
       "\n",
       "#sk-container-id-10 div.sk-label label.sk-toggleable__label,\n",
       "#sk-container-id-10 div.sk-label label {\n",
       "  /* The background is the default theme color */\n",
       "  color: var(--sklearn-color-text-on-default-background);\n",
       "}\n",
       "\n",
       "/* On hover, darken the color of the background */\n",
       "#sk-container-id-10 div.sk-label:hover label.sk-toggleable__label {\n",
       "  color: var(--sklearn-color-text);\n",
       "  background-color: var(--sklearn-color-unfitted-level-2);\n",
       "}\n",
       "\n",
       "/* Label box, darken color on hover, fitted */\n",
       "#sk-container-id-10 div.sk-label.fitted:hover label.sk-toggleable__label.fitted {\n",
       "  color: var(--sklearn-color-text);\n",
       "  background-color: var(--sklearn-color-fitted-level-2);\n",
       "}\n",
       "\n",
       "/* Estimator label */\n",
       "\n",
       "#sk-container-id-10 div.sk-label label {\n",
       "  font-family: monospace;\n",
       "  font-weight: bold;\n",
       "  display: inline-block;\n",
       "  line-height: 1.2em;\n",
       "}\n",
       "\n",
       "#sk-container-id-10 div.sk-label-container {\n",
       "  text-align: center;\n",
       "}\n",
       "\n",
       "/* Estimator-specific */\n",
       "#sk-container-id-10 div.sk-estimator {\n",
       "  font-family: monospace;\n",
       "  border: 1px dotted var(--sklearn-color-border-box);\n",
       "  border-radius: 0.25em;\n",
       "  box-sizing: border-box;\n",
       "  margin-bottom: 0.5em;\n",
       "  /* unfitted */\n",
       "  background-color: var(--sklearn-color-unfitted-level-0);\n",
       "}\n",
       "\n",
       "#sk-container-id-10 div.sk-estimator.fitted {\n",
       "  /* fitted */\n",
       "  background-color: var(--sklearn-color-fitted-level-0);\n",
       "}\n",
       "\n",
       "/* on hover */\n",
       "#sk-container-id-10 div.sk-estimator:hover {\n",
       "  /* unfitted */\n",
       "  background-color: var(--sklearn-color-unfitted-level-2);\n",
       "}\n",
       "\n",
       "#sk-container-id-10 div.sk-estimator.fitted:hover {\n",
       "  /* fitted */\n",
       "  background-color: var(--sklearn-color-fitted-level-2);\n",
       "}\n",
       "\n",
       "/* Specification for estimator info (e.g. \"i\" and \"?\") */\n",
       "\n",
       "/* Common style for \"i\" and \"?\" */\n",
       "\n",
       ".sk-estimator-doc-link,\n",
       "a:link.sk-estimator-doc-link,\n",
       "a:visited.sk-estimator-doc-link {\n",
       "  float: right;\n",
       "  font-size: smaller;\n",
       "  line-height: 1em;\n",
       "  font-family: monospace;\n",
       "  background-color: var(--sklearn-color-background);\n",
       "  border-radius: 1em;\n",
       "  height: 1em;\n",
       "  width: 1em;\n",
       "  text-decoration: none !important;\n",
       "  margin-left: 1ex;\n",
       "  /* unfitted */\n",
       "  border: var(--sklearn-color-unfitted-level-1) 1pt solid;\n",
       "  color: var(--sklearn-color-unfitted-level-1);\n",
       "}\n",
       "\n",
       ".sk-estimator-doc-link.fitted,\n",
       "a:link.sk-estimator-doc-link.fitted,\n",
       "a:visited.sk-estimator-doc-link.fitted {\n",
       "  /* fitted */\n",
       "  border: var(--sklearn-color-fitted-level-1) 1pt solid;\n",
       "  color: var(--sklearn-color-fitted-level-1);\n",
       "}\n",
       "\n",
       "/* On hover */\n",
       "div.sk-estimator:hover .sk-estimator-doc-link:hover,\n",
       ".sk-estimator-doc-link:hover,\n",
       "div.sk-label-container:hover .sk-estimator-doc-link:hover,\n",
       ".sk-estimator-doc-link:hover {\n",
       "  /* unfitted */\n",
       "  background-color: var(--sklearn-color-unfitted-level-3);\n",
       "  color: var(--sklearn-color-background);\n",
       "  text-decoration: none;\n",
       "}\n",
       "\n",
       "div.sk-estimator.fitted:hover .sk-estimator-doc-link.fitted:hover,\n",
       ".sk-estimator-doc-link.fitted:hover,\n",
       "div.sk-label-container:hover .sk-estimator-doc-link.fitted:hover,\n",
       ".sk-estimator-doc-link.fitted:hover {\n",
       "  /* fitted */\n",
       "  background-color: var(--sklearn-color-fitted-level-3);\n",
       "  color: var(--sklearn-color-background);\n",
       "  text-decoration: none;\n",
       "}\n",
       "\n",
       "/* Span, style for the box shown on hovering the info icon */\n",
       ".sk-estimator-doc-link span {\n",
       "  display: none;\n",
       "  z-index: 9999;\n",
       "  position: relative;\n",
       "  font-weight: normal;\n",
       "  right: .2ex;\n",
       "  padding: .5ex;\n",
       "  margin: .5ex;\n",
       "  width: min-content;\n",
       "  min-width: 20ex;\n",
       "  max-width: 50ex;\n",
       "  color: var(--sklearn-color-text);\n",
       "  box-shadow: 2pt 2pt 4pt #999;\n",
       "  /* unfitted */\n",
       "  background: var(--sklearn-color-unfitted-level-0);\n",
       "  border: .5pt solid var(--sklearn-color-unfitted-level-3);\n",
       "}\n",
       "\n",
       ".sk-estimator-doc-link.fitted span {\n",
       "  /* fitted */\n",
       "  background: var(--sklearn-color-fitted-level-0);\n",
       "  border: var(--sklearn-color-fitted-level-3);\n",
       "}\n",
       "\n",
       ".sk-estimator-doc-link:hover span {\n",
       "  display: block;\n",
       "}\n",
       "\n",
       "/* \"?\"-specific style due to the `<a>` HTML tag */\n",
       "\n",
       "#sk-container-id-10 a.estimator_doc_link {\n",
       "  float: right;\n",
       "  font-size: 1rem;\n",
       "  line-height: 1em;\n",
       "  font-family: monospace;\n",
       "  background-color: var(--sklearn-color-background);\n",
       "  border-radius: 1rem;\n",
       "  height: 1rem;\n",
       "  width: 1rem;\n",
       "  text-decoration: none;\n",
       "  /* unfitted */\n",
       "  color: var(--sklearn-color-unfitted-level-1);\n",
       "  border: var(--sklearn-color-unfitted-level-1) 1pt solid;\n",
       "}\n",
       "\n",
       "#sk-container-id-10 a.estimator_doc_link.fitted {\n",
       "  /* fitted */\n",
       "  border: var(--sklearn-color-fitted-level-1) 1pt solid;\n",
       "  color: var(--sklearn-color-fitted-level-1);\n",
       "}\n",
       "\n",
       "/* On hover */\n",
       "#sk-container-id-10 a.estimator_doc_link:hover {\n",
       "  /* unfitted */\n",
       "  background-color: var(--sklearn-color-unfitted-level-3);\n",
       "  color: var(--sklearn-color-background);\n",
       "  text-decoration: none;\n",
       "}\n",
       "\n",
       "#sk-container-id-10 a.estimator_doc_link.fitted:hover {\n",
       "  /* fitted */\n",
       "  background-color: var(--sklearn-color-fitted-level-3);\n",
       "}\n",
       "</style><div id=\"sk-container-id-10\" class=\"sk-top-container\"><div class=\"sk-text-repr-fallback\"><pre>GaussianMixture(covariance_type=&#x27;diag&#x27;, max_iter=10,\n",
       "                means_init=array([[2.095   , 2.095625, 0.13    , 0.18    , 1.6075  , 1.70375 ,\n",
       "        0.668125, 3.696875, 2.254375],\n",
       "       [2.095   , 2.095625, 0.13    , 0.18    , 1.6075  , 1.70375 ,\n",
       "        0.668125, 3.696875, 2.254375],\n",
       "       [2.095   , 2.095625, 0.13    , 0.18    , 1.6075  , 1.70375 ,\n",
       "        0.668125, 3.696875, 2.254375],\n",
       "       [2.095   , 2.095625, 0.13    , 0.18    , 1.6075  , 1.70375 ,\n",
       "        0.668125, 3.696875, 2.254375]]),\n",
       "                n_components=4)</pre><b>In a Jupyter environment, please rerun this cell to show the HTML representation or trust the notebook. <br />On GitHub, the HTML representation is unable to render, please try loading this page with nbviewer.org.</b></div><div class=\"sk-container\" hidden><div class=\"sk-item\"><div class=\"sk-estimator fitted sk-toggleable\"><input class=\"sk-toggleable__control sk-hidden--visually\" id=\"sk-estimator-id-10\" type=\"checkbox\" checked><label for=\"sk-estimator-id-10\" class=\"sk-toggleable__label fitted sk-toggleable__label-arrow fitted\">&nbsp;&nbsp;GaussianMixture<a class=\"sk-estimator-doc-link fitted\" rel=\"noreferrer\" target=\"_blank\" href=\"https://scikit-learn.org/1.4/modules/generated/sklearn.mixture.GaussianMixture.html\">?<span>Documentation for GaussianMixture</span></a><span class=\"sk-estimator-doc-link fitted\">i<span>Fitted</span></span></label><div class=\"sk-toggleable__content fitted\"><pre>GaussianMixture(covariance_type=&#x27;diag&#x27;, max_iter=10,\n",
       "                means_init=array([[2.095   , 2.095625, 0.13    , 0.18    , 1.6075  , 1.70375 ,\n",
       "        0.668125, 3.696875, 2.254375],\n",
       "       [2.095   , 2.095625, 0.13    , 0.18    , 1.6075  , 1.70375 ,\n",
       "        0.668125, 3.696875, 2.254375],\n",
       "       [2.095   , 2.095625, 0.13    , 0.18    , 1.6075  , 1.70375 ,\n",
       "        0.668125, 3.696875, 2.254375],\n",
       "       [2.095   , 2.095625, 0.13    , 0.18    , 1.6075  , 1.70375 ,\n",
       "        0.668125, 3.696875, 2.254375]]),\n",
       "                n_components=4)</pre></div> </div></div></div></div>"
      ],
      "text/plain": [
       "GaussianMixture(covariance_type='diag', max_iter=10,\n",
       "                means_init=array([[2.095   , 2.095625, 0.13    , 0.18    , 1.6075  , 1.70375 ,\n",
       "        0.668125, 3.696875, 2.254375],\n",
       "       [2.095   , 2.095625, 0.13    , 0.18    , 1.6075  , 1.70375 ,\n",
       "        0.668125, 3.696875, 2.254375],\n",
       "       [2.095   , 2.095625, 0.13    , 0.18    , 1.6075  , 1.70375 ,\n",
       "        0.668125, 3.696875, 2.254375],\n",
       "       [2.095   , 2.095625, 0.13    , 0.18    , 1.6075  , 1.70375 ,\n",
       "        0.668125, 3.696875, 2.254375]]),\n",
       "                n_components=4)"
      ]
     },
     "execution_count": 43,
     "metadata": {},
     "output_type": "execute_result"
    }
   ],
   "source": [
    "# Calcular las medias de cada clase\n",
    "means_class_0 = x_train[y_train_flat == 0].mean(axis=0).values.reshape(1, -1)\n",
    "means_class_1 = x_train[y_train_flat == 1].mean(axis=0).values.reshape(1, -1)\n",
    "\n",
    "# Iniciar los parámetros de los modelos GMM con las medias de cada clase\n",
    "means_init_0 = np.tile(means_class_0, (4, 1))\n",
    "means_init_1 = np.tile(means_class_1, (4, 1))\n",
    "\n",
    "# Entrenar el modelo GMM para cada clase\n",
    "gmm0 = GaussianMixture(n_components=4, means_init=means_init_0, covariance_type='diag', max_iter=10)\n",
    "gmm0.fit(x_train[y_train_flat == 0])\n",
    "\n",
    "gmm1 = GaussianMixture(n_components=4, means_init=means_init_1, covariance_type='diag', max_iter=10)\n",
    "gmm1.fit(x_train[y_train_flat == 1])"
   ]
  },
  {
   "cell_type": "code",
   "execution_count": null,
   "id": "473027e9",
   "metadata": {},
   "outputs": [
    {
     "name": "stdout",
     "output_type": "stream",
     "text": [
      "Log-Verosimilitud clase 0:  -15.225884320311575\n",
      "Log-Verosimilitud clase 1:  -31.624875707420927\n"
     ]
    }
   ],
   "source": [
    "#Ver lo bueno que es el GMM, ver el ajuste por cada clase \n",
    "log_likelihood = gmm0.score(x_train)\n",
    "print(\"Log-Verosimilitud clase 0: \", log_likelihood)\n",
    "\n",
    "log_likelihood = gmm1.score(x_train)\n",
    "print(\"Log-Verosimilitud clase 1: \", log_likelihood)"
   ]
  },
  {
   "cell_type": "markdown",
   "id": "4de77c46",
   "metadata": {},
   "source": [
    "1.4 Construir sistemas con preprocesado, modelo a priori y cada uno de los modelos de verosimilitud"
   ]
  },
  {
   "cell_type": "markdown",
   "id": "caca72bf",
   "metadata": {},
   "source": [
    "Sistema con Naive Bayes "
   ]
  },
  {
   "cell_type": "code",
   "execution_count": null,
   "id": "e140a917",
   "metadata": {},
   "outputs": [],
   "source": []
  },
  {
   "cell_type": "markdown",
   "id": "1e9e57ce",
   "metadata": {},
   "source": [
    "Sistema con MVN"
   ]
  },
  {
   "cell_type": "code",
   "execution_count": null,
   "id": "aa43d4c1",
   "metadata": {},
   "outputs": [],
   "source": []
  },
  {
   "cell_type": "markdown",
   "id": "4e6f8f95",
   "metadata": {},
   "source": [
    "Sistema con GMM"
   ]
  },
  {
   "cell_type": "code",
   "execution_count": null,
   "id": "ae3a786e",
   "metadata": {},
   "outputs": [],
   "source": []
  },
  {
   "cell_type": "markdown",
   "id": "781a9195",
   "metadata": {},
   "source": [
    "1.5 Comparar los sistema con un conjunto de validación  (elegir uno de los sistemas)"
   ]
  },
  {
   "cell_type": "code",
   "execution_count": null,
   "id": "be436671",
   "metadata": {},
   "outputs": [],
   "source": []
  },
  {
   "cell_type": "markdown",
   "id": "a6e1f922",
   "metadata": {},
   "source": [
    "1.6 Almacenamiento objetos con Pickle"
   ]
  },
  {
   "cell_type": "code",
   "execution_count": null,
   "id": "de8887d2",
   "metadata": {},
   "outputs": [],
   "source": []
  },
  {
   "cell_type": "markdown",
   "id": "392baad2",
   "metadata": {},
   "source": [
    "**2-Implementación e inferencia**"
   ]
  },
  {
   "cell_type": "markdown",
   "id": "b91c64db",
   "metadata": {},
   "source": [
    "Creación script inferencia"
   ]
  },
  {
   "cell_type": "code",
   "execution_count": null,
   "id": "1663b27f",
   "metadata": {},
   "outputs": [],
   "source": []
  },
  {
   "cell_type": "markdown",
   "id": "f8a063a4",
   "metadata": {},
   "source": [
    "2.1 Cargar objetos guardados del sistema seleccionado"
   ]
  },
  {
   "cell_type": "code",
   "execution_count": null,
   "id": "34d2d4a1",
   "metadata": {},
   "outputs": [],
   "source": []
  },
  {
   "cell_type": "markdown",
   "id": "f1c1d2cc",
   "metadata": {},
   "source": [
    "2.2 Cargar conjunto de datos de test"
   ]
  },
  {
   "cell_type": "code",
   "execution_count": null,
   "id": "cc651cb6",
   "metadata": {},
   "outputs": [],
   "source": []
  },
  {
   "cell_type": "markdown",
   "id": "c25e4892",
   "metadata": {},
   "source": [
    "2.3 Ejecución objetos guardados y guardado etiquetas predichas en un CSV con el mismo formato que practica_Y_train.csv"
   ]
  },
  {
   "cell_type": "code",
   "execution_count": null,
   "id": "e5461926",
   "metadata": {},
   "outputs": [],
   "source": []
  },
  {
   "cell_type": "markdown",
   "id": "43d721f0",
   "metadata": {},
   "source": [
    "**3-Clustering**"
   ]
  },
  {
   "cell_type": "markdown",
   "id": "789e9c8b",
   "metadata": {},
   "source": [
    "3.1 Realizacion de clastering sobre el conjunto de datos practica_X_train.csv"
   ]
  },
  {
   "cell_type": "code",
   "execution_count": null,
   "id": "ccef87d8",
   "metadata": {},
   "outputs": [],
   "source": []
  },
  {
   "cell_type": "markdown",
   "id": "28b87e97",
   "metadata": {},
   "source": [
    "3.2.1 ¿Cuantos clusters has elegido?¿Elección relacionada con el número de clases? "
   ]
  },
  {
   "cell_type": "markdown",
   "id": "34501c7e",
   "metadata": {},
   "source": [
    "3.2.2 Comparacion etiqueta de cada ejemplo de entrenamiento con el cluster asignado ¿Es posible crear una relación entre ambas?"
   ]
  },
  {
   "cell_type": "markdown",
   "id": "2c4a24e7",
   "metadata": {},
   "source": [
    "3.2.3 ¿A que cluster se le asignaría cada ejemplo del conjunto de test si se crea una relacion entre cluster y etiqueta? ¿Qué etiqueta asignarias a cada ejemplo de test?"
   ]
  },
  {
   "cell_type": "markdown",
   "id": "3466ec1f",
   "metadata": {},
   "source": [
    "3.2.4 Si tenemos etiquetas asociadas a los datos ¿Se puede utilizar clustering para hacer clasificación?"
   ]
  }
 ],
 "metadata": {
  "kernelspec": {
   "display_name": "Python 3",
   "language": "python",
   "name": "python3"
  },
  "language_info": {
   "codemirror_mode": {
    "name": "ipython",
    "version": 3
   },
   "file_extension": ".py",
   "mimetype": "text/x-python",
   "name": "python",
   "nbconvert_exporter": "python",
   "pygments_lexer": "ipython3",
   "version": "3.12.1"
  }
 },
 "nbformat": 4,
 "nbformat_minor": 5
}
