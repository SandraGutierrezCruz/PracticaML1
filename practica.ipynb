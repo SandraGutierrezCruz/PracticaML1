{
 "cells": [
  {
   "cell_type": "code",
   "execution_count": 3,
   "id": "6b6d9068",
   "metadata": {},
   "outputs": [],
   "source": [
    "import pandas as pd\n",
    "import numpy as np\n",
    "from sklearn.model_selection import train_test_split\n",
    "from sklearn.naive_bayes import GaussianNB, BernoulliNB, CategoricalNB\n",
    "from scipy.stats import multivariate_normal as mvn\n",
    "from sklearn.feature_selection import VarianceThreshold\n",
    "from sklearn.mixture import GaussianMixture"
   ]
  },
  {
   "cell_type": "markdown",
   "id": "04148279",
   "metadata": {},
   "source": [
    "**1-Entrenamiento**"
   ]
  },
  {
   "cell_type": "markdown",
   "id": "6be470f1",
   "metadata": {},
   "source": [
    "Carga de los datos de entrenamiento "
   ]
  },
  {
   "cell_type": "code",
   "execution_count": 4,
   "id": "fa303cb2",
   "metadata": {},
   "outputs": [
    {
     "name": "stdout",
     "output_type": "stream",
     "text": [
      "Tamaño x_train: (3200, 9)\n",
      "Tamaño x_test: (800, 9)\n",
      "      Temperature  Humidity  PM2.5  PM10  NO2  SO2   CO  \\\n",
      "2386          5.0       6.0    3.0   4.0  6.0  4.0  5.0   \n",
      "4737          2.0       2.0    0.0   1.0  3.0  1.0  0.0   \n",
      "1153          2.0       2.0    0.0   0.0  3.0  2.0  1.0   \n",
      "3840          5.0       5.0    0.0   1.0  4.0  1.0  7.0   \n",
      "4229          3.0       3.0    0.0   1.0  5.0  4.0  4.0   \n",
      "\n",
      "      Proximity_to_Industrial_Areas  Population_Density  \n",
      "2386                            1.0                 5.0  \n",
      "4737                            3.0                 4.0  \n",
      "1153                            3.0                 2.0  \n",
      "3840                            2.0                 4.0  \n",
      "4229                            3.0                 2.0  \n",
      "     Air_Quality\n",
      "2386   Hazardous\n",
      "4737        Good\n",
      "1153        Good\n",
      "3840        Poor\n",
      "4229        Poor\n"
     ]
    }
   ],
   "source": [
    "x_train = pd.read_csv('practica_X_train.csv', sep=';', index_col=0)\n",
    "y_train = pd.read_csv('practica_Y_train.csv', sep=';', index_col=0)\n",
    "\n",
    "# Dividir los datos en conjuntos de entrenamiento y validación\n",
    "x_train, x_val, y_train, y_val = train_test_split(x_train, y_train, test_size=0.2, random_state=42)\n",
    "\n",
    "# Verificar las dimensiones de los conjuntos\n",
    "print(\"Tamaño x_train:\", x_train.shape)\n",
    "print(\"Tamaño x_test:\", x_val.shape)\n",
    "\n",
    "print(x_train.head())\n",
    "print(y_train.head())\n",
    "\n",
    "#recomendado hacer k_fold para conjunto de entrenamiento y validacion"
   ]
  },
  {
   "cell_type": "markdown",
   "id": "54bce256",
   "metadata": {},
   "source": [
    "1.1 Preprocesado ejemplos"
   ]
  },
  {
   "cell_type": "markdown",
   "id": "1af6c3ed",
   "metadata": {},
   "source": [
    "Como el conjunto de datos x_train son datos continuos y en el enunciado se nos dice que no tenemos valores perdidos y en los modelos de Naive Bayes, MVN y GMM los datos de tipo continuo son buenas entradas. \n",
    "\n",
    "Por lo tanto, el único preprocesado que sería necesario para poder trabajar con el conjunto de test es codificar el atributo categórico del conjunto de y_train y aplicar un filtrado por varianza al conjunto de datos de x_train para descartar aquellas columnas que no aporten información. "
   ]
  },
  {
   "cell_type": "code",
   "execution_count": 5,
   "id": "311dd3c4",
   "metadata": {},
   "outputs": [],
   "source": [
    "#filtrado por varianza conjunto x_train\n",
    "thereshold = 0.1\n",
    "\n",
    "sel = VarianceThreshold(threshold=thereshold)\n",
    "sel.set_output(transform='pandas')\n",
    "x_train = sel.fit_transform(x_train)"
   ]
  },
  {
   "cell_type": "code",
   "execution_count": 6,
   "id": "eb089d95",
   "metadata": {},
   "outputs": [
    {
     "name": "stdout",
     "output_type": "stream",
     "text": [
      "      Air_Quality\n",
      "2386            0\n",
      "4737            1\n",
      "1153            1\n",
      "3840            2\n",
      "4229            2\n"
     ]
    }
   ],
   "source": [
    "#codificación conjunto y_train\n",
    "categoria = y_train['Air_Quality'].unique()\n",
    "categoria_codificada ={string:i for i,string in enumerate(categoria)} #diccionario de codificación\n",
    "cat = y_train['Air_Quality'].map(categoria_codificada)\n",
    "\n",
    "y_train['Air_Quality'] = cat\n",
    "print(y_train.head())"
   ]
  },
  {
   "cell_type": "markdown",
   "id": "fadf2036",
   "metadata": {},
   "source": [
    "1.2 Construcción modelo a priori de la etiqueta (cada nivel de calidad del aire tiene un número difernte de ejemplos)"
   ]
  },
  {
   "cell_type": "code",
   "execution_count": 7,
   "id": "4ef2fe70",
   "metadata": {},
   "outputs": [
    {
     "name": "stdout",
     "output_type": "stream",
     "text": [
      "Probabilidades a priori: \n",
      "Air_Quality\n",
      "1    0.399375\n",
      "3    0.296563\n",
      "2    0.206250\n",
      "0    0.097812\n",
      "Name: count, dtype: float64\n"
     ]
    }
   ],
   "source": [
    "clases = y_train['Air_Quality'].value_counts()  # Cantidad de todas las soluciones distintas\n",
    "Probs_priori = clases / len(y_train)\n",
    "print(\"Probabilidades a priori: \")\n",
    "print(Probs_priori)"
   ]
  },
  {
   "cell_type": "markdown",
   "id": "321b8b46",
   "metadata": {},
   "source": [
    "1.3 Construir distintos modelos de verosimilitud"
   ]
  },
  {
   "cell_type": "markdown",
   "id": "03a9b6ad",
   "metadata": {},
   "source": [
    "Naive Bayes "
   ]
  },
  {
   "cell_type": "markdown",
   "id": "3bc6dc96",
   "metadata": {},
   "source": [
    "Primer modelo posible con GaussianNB"
   ]
  },
  {
   "cell_type": "code",
   "execution_count": 8,
   "id": "c00d0261",
   "metadata": {},
   "outputs": [
    {
     "name": "stdout",
     "output_type": "stream",
     "text": [
      "Probabilidades a priori con Naive Bayes Gassiano:\n",
      "[0.0978125 0.399375  0.20625   0.2965625]\n",
      "acc con conjunto train: 0.9178125\n"
     ]
    }
   ],
   "source": [
    "naive_bayes_gaussian = GaussianNB()\n",
    "naive_bayes_gaussian.fit(x_train, y_train.values.ravel()) # con y_train.values.ravel() \n",
    "                                                 # cambiamos de lista pandas a numpy\n",
    "                                                 # Es para que solo nos den los valores \n",
    "                                                 # Sino te da un enlace raro tambien\n",
    "print(\"Probabilidades a priori con Naive Bayes Gassiano:\") \n",
    "print(naive_bayes_gaussian.class_prior_) # Solo para comprobar las probabilidades de las clases\n",
    "\n",
    "predicciones_g = naive_bayes_gaussian.predict(x_train)\n",
    "cont = 0\n",
    "for y_hat, y_true in zip(predicciones_g, y_train.values.ravel()):\n",
    "    if (y_true == y_hat):\n",
    "        cont += 1\n",
    "print(\"acc con conjunto train:\", cont / len(predicciones_g))\n"
   ]
  },
  {
   "cell_type": "markdown",
   "id": "3e7f32d5",
   "metadata": {},
   "source": [
    "Segundo modelo posible con CategoricalNB"
   ]
  },
  {
   "cell_type": "code",
   "execution_count": 9,
   "id": "78973031",
   "metadata": {},
   "outputs": [
    {
     "name": "stdout",
     "output_type": "stream",
     "text": [
      "acc con conjunto train: 0.94875\n"
     ]
    }
   ],
   "source": [
    "naive_bayes_categorical = CategoricalNB()\n",
    "naive_bayes_categorical.fit(x_train, y_train.values.ravel())\n",
    "\n",
    "predicciones_c = naive_bayes_categorical.predict(x_train)\n",
    "cont = 0\n",
    "for y_hat, y_true in zip(predicciones_c, y_train.values.ravel()):\n",
    "    if (y_true == y_hat):\n",
    "        cont += 1\n",
    "        \n",
    "print(\"acc con conjunto train:\", cont / len(predicciones_c))"
   ]
  },
  {
   "cell_type": "markdown",
   "id": "f9a7b778",
   "metadata": {},
   "source": [
    "Tercer modelo posible BernoulliNB"
   ]
  },
  {
   "cell_type": "code",
   "execution_count": 10,
   "id": "09f1c284",
   "metadata": {},
   "outputs": [
    {
     "name": "stdout",
     "output_type": "stream",
     "text": [
      "acc con conjunto train: 0.626875\n"
     ]
    }
   ],
   "source": [
    "naive_bayes_bernoulli = BernoulliNB(alpha= 1)\n",
    "naive_bayes_bernoulli.fit(x_train, y_train.values.ravel())\n",
    "\n",
    "predicciones_b = naive_bayes_bernoulli.predict(x_train)\n",
    "cont = 0\n",
    "for y_hat, y_true in zip(predicciones_b, y_train.values.ravel()):\n",
    "    if (y_true == y_hat):\n",
    "        cont += 1\n",
    "print(\"acc con conjunto train:\", cont / len(predicciones_b))"
   ]
  },
  {
   "cell_type": "markdown",
   "id": "0e00c440",
   "metadata": {},
   "source": [
    "MVN"
   ]
  },
  {
   "cell_type": "code",
   "execution_count": 11,
   "id": "4662bb81",
   "metadata": {},
   "outputs": [],
   "source": [
    "def train_mvn(Y_TRAIN, X_TRAIN):\n",
    "    estadisticas_modelo = {}\n",
    "    clases = np.unique(Y_TRAIN)\n",
    "    for clase in clases:\n",
    "        datos_clase = X_TRAIN[Y_TRAIN == clase]\n",
    "\n",
    "        media = np.mean(datos_clase, axis=0)\n",
    "        covarianza = np.cov(datos_clase, rowvar=False)\n",
    "        covarianza += np.eye(covarianza.shape[0]) * 1e-6\n",
    "\n",
    "        modelo = mvn(mean=media, cov=covarianza)\n",
    "\n",
    "        estadisticas_modelo[clase] = {\"media\": media, \"covarianza\": covarianza, \"modelo\": modelo}\n",
    "    return estadisticas_modelo\n",
    "\n",
    "def predict_mvn(x_a_predecir, estadisticas):\n",
    "    # Predecimos probabilidades primero\n",
    "    probs = []\n",
    "    clases = list(estadisticas.keys())\n",
    "    for clase in clases:\n",
    "        modelo = estadisticas[clase][\"modelo\"]\n",
    "        p = modelo.logpdf(x_a_predecir)\n",
    "        probs.append(p)\n",
    "    probs = np.array(probs).T\n",
    "    y_hat = np.argmax(probs, axis=1)\n",
    "    return np.array(clases)[y_hat]\n",
    "    "
   ]
  },
  {
   "cell_type": "code",
   "execution_count": 12,
   "id": "936ad8d4",
   "metadata": {},
   "outputs": [
    {
     "name": "stdout",
     "output_type": "stream",
     "text": [
      "acc con conjunto train:  0.924375\n"
     ]
    }
   ],
   "source": [
    "y_train_flat = y_train.values.ravel()\n",
    "\n",
    "estadisticas_MVN = train_mvn(y_train_flat, x_train.values)\n",
    "\n",
    "y_hat = predict_mvn(x_train.values, estadisticas_MVN)\n",
    "acc = np.mean(y_hat == y_train_flat)\n",
    "print(\"acc con conjunto train: \", acc)"
   ]
  },
  {
   "cell_type": "markdown",
   "id": "df495503",
   "metadata": {},
   "source": [
    "GMM"
   ]
  },
  {
   "cell_type": "code",
   "execution_count": 13,
   "id": "e7e10af8",
   "metadata": {},
   "outputs": [
    {
     "name": "stderr",
     "output_type": "stream",
     "text": [
      "/Library/Frameworks/Python.framework/Versions/3.13/lib/python3.13/site-packages/sklearn/mixture/_base.py:269: ConvergenceWarning: Best performing initialization did not converge. Try different init parameters, or increase max_iter, tol, or check for degenerate data.\n",
      "  warnings.warn(\n"
     ]
    },
    {
     "data": {
      "text/html": [
       "<style>#sk-container-id-1 {\n",
       "  /* Definition of color scheme common for light and dark mode */\n",
       "  --sklearn-color-text: #000;\n",
       "  --sklearn-color-text-muted: #666;\n",
       "  --sklearn-color-line: gray;\n",
       "  /* Definition of color scheme for unfitted estimators */\n",
       "  --sklearn-color-unfitted-level-0: #fff5e6;\n",
       "  --sklearn-color-unfitted-level-1: #f6e4d2;\n",
       "  --sklearn-color-unfitted-level-2: #ffe0b3;\n",
       "  --sklearn-color-unfitted-level-3: chocolate;\n",
       "  /* Definition of color scheme for fitted estimators */\n",
       "  --sklearn-color-fitted-level-0: #f0f8ff;\n",
       "  --sklearn-color-fitted-level-1: #d4ebff;\n",
       "  --sklearn-color-fitted-level-2: #b3dbfd;\n",
       "  --sklearn-color-fitted-level-3: cornflowerblue;\n",
       "\n",
       "  /* Specific color for light theme */\n",
       "  --sklearn-color-text-on-default-background: var(--sg-text-color, var(--theme-code-foreground, var(--jp-content-font-color1, black)));\n",
       "  --sklearn-color-background: var(--sg-background-color, var(--theme-background, var(--jp-layout-color0, white)));\n",
       "  --sklearn-color-border-box: var(--sg-text-color, var(--theme-code-foreground, var(--jp-content-font-color1, black)));\n",
       "  --sklearn-color-icon: #696969;\n",
       "\n",
       "  @media (prefers-color-scheme: dark) {\n",
       "    /* Redefinition of color scheme for dark theme */\n",
       "    --sklearn-color-text-on-default-background: var(--sg-text-color, var(--theme-code-foreground, var(--jp-content-font-color1, white)));\n",
       "    --sklearn-color-background: var(--sg-background-color, var(--theme-background, var(--jp-layout-color0, #111)));\n",
       "    --sklearn-color-border-box: var(--sg-text-color, var(--theme-code-foreground, var(--jp-content-font-color1, white)));\n",
       "    --sklearn-color-icon: #878787;\n",
       "  }\n",
       "}\n",
       "\n",
       "#sk-container-id-1 {\n",
       "  color: var(--sklearn-color-text);\n",
       "}\n",
       "\n",
       "#sk-container-id-1 pre {\n",
       "  padding: 0;\n",
       "}\n",
       "\n",
       "#sk-container-id-1 input.sk-hidden--visually {\n",
       "  border: 0;\n",
       "  clip: rect(1px 1px 1px 1px);\n",
       "  clip: rect(1px, 1px, 1px, 1px);\n",
       "  height: 1px;\n",
       "  margin: -1px;\n",
       "  overflow: hidden;\n",
       "  padding: 0;\n",
       "  position: absolute;\n",
       "  width: 1px;\n",
       "}\n",
       "\n",
       "#sk-container-id-1 div.sk-dashed-wrapped {\n",
       "  border: 1px dashed var(--sklearn-color-line);\n",
       "  margin: 0 0.4em 0.5em 0.4em;\n",
       "  box-sizing: border-box;\n",
       "  padding-bottom: 0.4em;\n",
       "  background-color: var(--sklearn-color-background);\n",
       "}\n",
       "\n",
       "#sk-container-id-1 div.sk-container {\n",
       "  /* jupyter's `normalize.less` sets `[hidden] { display: none; }`\n",
       "     but bootstrap.min.css set `[hidden] { display: none !important; }`\n",
       "     so we also need the `!important` here to be able to override the\n",
       "     default hidden behavior on the sphinx rendered scikit-learn.org.\n",
       "     See: https://github.com/scikit-learn/scikit-learn/issues/21755 */\n",
       "  display: inline-block !important;\n",
       "  position: relative;\n",
       "}\n",
       "\n",
       "#sk-container-id-1 div.sk-text-repr-fallback {\n",
       "  display: none;\n",
       "}\n",
       "\n",
       "div.sk-parallel-item,\n",
       "div.sk-serial,\n",
       "div.sk-item {\n",
       "  /* draw centered vertical line to link estimators */\n",
       "  background-image: linear-gradient(var(--sklearn-color-text-on-default-background), var(--sklearn-color-text-on-default-background));\n",
       "  background-size: 2px 100%;\n",
       "  background-repeat: no-repeat;\n",
       "  background-position: center center;\n",
       "}\n",
       "\n",
       "/* Parallel-specific style estimator block */\n",
       "\n",
       "#sk-container-id-1 div.sk-parallel-item::after {\n",
       "  content: \"\";\n",
       "  width: 100%;\n",
       "  border-bottom: 2px solid var(--sklearn-color-text-on-default-background);\n",
       "  flex-grow: 1;\n",
       "}\n",
       "\n",
       "#sk-container-id-1 div.sk-parallel {\n",
       "  display: flex;\n",
       "  align-items: stretch;\n",
       "  justify-content: center;\n",
       "  background-color: var(--sklearn-color-background);\n",
       "  position: relative;\n",
       "}\n",
       "\n",
       "#sk-container-id-1 div.sk-parallel-item {\n",
       "  display: flex;\n",
       "  flex-direction: column;\n",
       "}\n",
       "\n",
       "#sk-container-id-1 div.sk-parallel-item:first-child::after {\n",
       "  align-self: flex-end;\n",
       "  width: 50%;\n",
       "}\n",
       "\n",
       "#sk-container-id-1 div.sk-parallel-item:last-child::after {\n",
       "  align-self: flex-start;\n",
       "  width: 50%;\n",
       "}\n",
       "\n",
       "#sk-container-id-1 div.sk-parallel-item:only-child::after {\n",
       "  width: 0;\n",
       "}\n",
       "\n",
       "/* Serial-specific style estimator block */\n",
       "\n",
       "#sk-container-id-1 div.sk-serial {\n",
       "  display: flex;\n",
       "  flex-direction: column;\n",
       "  align-items: center;\n",
       "  background-color: var(--sklearn-color-background);\n",
       "  padding-right: 1em;\n",
       "  padding-left: 1em;\n",
       "}\n",
       "\n",
       "\n",
       "/* Toggleable style: style used for estimator/Pipeline/ColumnTransformer box that is\n",
       "clickable and can be expanded/collapsed.\n",
       "- Pipeline and ColumnTransformer use this feature and define the default style\n",
       "- Estimators will overwrite some part of the style using the `sk-estimator` class\n",
       "*/\n",
       "\n",
       "/* Pipeline and ColumnTransformer style (default) */\n",
       "\n",
       "#sk-container-id-1 div.sk-toggleable {\n",
       "  /* Default theme specific background. It is overwritten whether we have a\n",
       "  specific estimator or a Pipeline/ColumnTransformer */\n",
       "  background-color: var(--sklearn-color-background);\n",
       "}\n",
       "\n",
       "/* Toggleable label */\n",
       "#sk-container-id-1 label.sk-toggleable__label {\n",
       "  cursor: pointer;\n",
       "  display: flex;\n",
       "  width: 100%;\n",
       "  margin-bottom: 0;\n",
       "  padding: 0.5em;\n",
       "  box-sizing: border-box;\n",
       "  text-align: center;\n",
       "  align-items: start;\n",
       "  justify-content: space-between;\n",
       "  gap: 0.5em;\n",
       "}\n",
       "\n",
       "#sk-container-id-1 label.sk-toggleable__label .caption {\n",
       "  font-size: 0.6rem;\n",
       "  font-weight: lighter;\n",
       "  color: var(--sklearn-color-text-muted);\n",
       "}\n",
       "\n",
       "#sk-container-id-1 label.sk-toggleable__label-arrow:before {\n",
       "  /* Arrow on the left of the label */\n",
       "  content: \"▸\";\n",
       "  float: left;\n",
       "  margin-right: 0.25em;\n",
       "  color: var(--sklearn-color-icon);\n",
       "}\n",
       "\n",
       "#sk-container-id-1 label.sk-toggleable__label-arrow:hover:before {\n",
       "  color: var(--sklearn-color-text);\n",
       "}\n",
       "\n",
       "/* Toggleable content - dropdown */\n",
       "\n",
       "#sk-container-id-1 div.sk-toggleable__content {\n",
       "  max-height: 0;\n",
       "  max-width: 0;\n",
       "  overflow: hidden;\n",
       "  text-align: left;\n",
       "  /* unfitted */\n",
       "  background-color: var(--sklearn-color-unfitted-level-0);\n",
       "}\n",
       "\n",
       "#sk-container-id-1 div.sk-toggleable__content.fitted {\n",
       "  /* fitted */\n",
       "  background-color: var(--sklearn-color-fitted-level-0);\n",
       "}\n",
       "\n",
       "#sk-container-id-1 div.sk-toggleable__content pre {\n",
       "  margin: 0.2em;\n",
       "  border-radius: 0.25em;\n",
       "  color: var(--sklearn-color-text);\n",
       "  /* unfitted */\n",
       "  background-color: var(--sklearn-color-unfitted-level-0);\n",
       "}\n",
       "\n",
       "#sk-container-id-1 div.sk-toggleable__content.fitted pre {\n",
       "  /* unfitted */\n",
       "  background-color: var(--sklearn-color-fitted-level-0);\n",
       "}\n",
       "\n",
       "#sk-container-id-1 input.sk-toggleable__control:checked~div.sk-toggleable__content {\n",
       "  /* Expand drop-down */\n",
       "  max-height: 200px;\n",
       "  max-width: 100%;\n",
       "  overflow: auto;\n",
       "}\n",
       "\n",
       "#sk-container-id-1 input.sk-toggleable__control:checked~label.sk-toggleable__label-arrow:before {\n",
       "  content: \"▾\";\n",
       "}\n",
       "\n",
       "/* Pipeline/ColumnTransformer-specific style */\n",
       "\n",
       "#sk-container-id-1 div.sk-label input.sk-toggleable__control:checked~label.sk-toggleable__label {\n",
       "  color: var(--sklearn-color-text);\n",
       "  background-color: var(--sklearn-color-unfitted-level-2);\n",
       "}\n",
       "\n",
       "#sk-container-id-1 div.sk-label.fitted input.sk-toggleable__control:checked~label.sk-toggleable__label {\n",
       "  background-color: var(--sklearn-color-fitted-level-2);\n",
       "}\n",
       "\n",
       "/* Estimator-specific style */\n",
       "\n",
       "/* Colorize estimator box */\n",
       "#sk-container-id-1 div.sk-estimator input.sk-toggleable__control:checked~label.sk-toggleable__label {\n",
       "  /* unfitted */\n",
       "  background-color: var(--sklearn-color-unfitted-level-2);\n",
       "}\n",
       "\n",
       "#sk-container-id-1 div.sk-estimator.fitted input.sk-toggleable__control:checked~label.sk-toggleable__label {\n",
       "  /* fitted */\n",
       "  background-color: var(--sklearn-color-fitted-level-2);\n",
       "}\n",
       "\n",
       "#sk-container-id-1 div.sk-label label.sk-toggleable__label,\n",
       "#sk-container-id-1 div.sk-label label {\n",
       "  /* The background is the default theme color */\n",
       "  color: var(--sklearn-color-text-on-default-background);\n",
       "}\n",
       "\n",
       "/* On hover, darken the color of the background */\n",
       "#sk-container-id-1 div.sk-label:hover label.sk-toggleable__label {\n",
       "  color: var(--sklearn-color-text);\n",
       "  background-color: var(--sklearn-color-unfitted-level-2);\n",
       "}\n",
       "\n",
       "/* Label box, darken color on hover, fitted */\n",
       "#sk-container-id-1 div.sk-label.fitted:hover label.sk-toggleable__label.fitted {\n",
       "  color: var(--sklearn-color-text);\n",
       "  background-color: var(--sklearn-color-fitted-level-2);\n",
       "}\n",
       "\n",
       "/* Estimator label */\n",
       "\n",
       "#sk-container-id-1 div.sk-label label {\n",
       "  font-family: monospace;\n",
       "  font-weight: bold;\n",
       "  display: inline-block;\n",
       "  line-height: 1.2em;\n",
       "}\n",
       "\n",
       "#sk-container-id-1 div.sk-label-container {\n",
       "  text-align: center;\n",
       "}\n",
       "\n",
       "/* Estimator-specific */\n",
       "#sk-container-id-1 div.sk-estimator {\n",
       "  font-family: monospace;\n",
       "  border: 1px dotted var(--sklearn-color-border-box);\n",
       "  border-radius: 0.25em;\n",
       "  box-sizing: border-box;\n",
       "  margin-bottom: 0.5em;\n",
       "  /* unfitted */\n",
       "  background-color: var(--sklearn-color-unfitted-level-0);\n",
       "}\n",
       "\n",
       "#sk-container-id-1 div.sk-estimator.fitted {\n",
       "  /* fitted */\n",
       "  background-color: var(--sklearn-color-fitted-level-0);\n",
       "}\n",
       "\n",
       "/* on hover */\n",
       "#sk-container-id-1 div.sk-estimator:hover {\n",
       "  /* unfitted */\n",
       "  background-color: var(--sklearn-color-unfitted-level-2);\n",
       "}\n",
       "\n",
       "#sk-container-id-1 div.sk-estimator.fitted:hover {\n",
       "  /* fitted */\n",
       "  background-color: var(--sklearn-color-fitted-level-2);\n",
       "}\n",
       "\n",
       "/* Specification for estimator info (e.g. \"i\" and \"?\") */\n",
       "\n",
       "/* Common style for \"i\" and \"?\" */\n",
       "\n",
       ".sk-estimator-doc-link,\n",
       "a:link.sk-estimator-doc-link,\n",
       "a:visited.sk-estimator-doc-link {\n",
       "  float: right;\n",
       "  font-size: smaller;\n",
       "  line-height: 1em;\n",
       "  font-family: monospace;\n",
       "  background-color: var(--sklearn-color-background);\n",
       "  border-radius: 1em;\n",
       "  height: 1em;\n",
       "  width: 1em;\n",
       "  text-decoration: none !important;\n",
       "  margin-left: 0.5em;\n",
       "  text-align: center;\n",
       "  /* unfitted */\n",
       "  border: var(--sklearn-color-unfitted-level-1) 1pt solid;\n",
       "  color: var(--sklearn-color-unfitted-level-1);\n",
       "}\n",
       "\n",
       ".sk-estimator-doc-link.fitted,\n",
       "a:link.sk-estimator-doc-link.fitted,\n",
       "a:visited.sk-estimator-doc-link.fitted {\n",
       "  /* fitted */\n",
       "  border: var(--sklearn-color-fitted-level-1) 1pt solid;\n",
       "  color: var(--sklearn-color-fitted-level-1);\n",
       "}\n",
       "\n",
       "/* On hover */\n",
       "div.sk-estimator:hover .sk-estimator-doc-link:hover,\n",
       ".sk-estimator-doc-link:hover,\n",
       "div.sk-label-container:hover .sk-estimator-doc-link:hover,\n",
       ".sk-estimator-doc-link:hover {\n",
       "  /* unfitted */\n",
       "  background-color: var(--sklearn-color-unfitted-level-3);\n",
       "  color: var(--sklearn-color-background);\n",
       "  text-decoration: none;\n",
       "}\n",
       "\n",
       "div.sk-estimator.fitted:hover .sk-estimator-doc-link.fitted:hover,\n",
       ".sk-estimator-doc-link.fitted:hover,\n",
       "div.sk-label-container:hover .sk-estimator-doc-link.fitted:hover,\n",
       ".sk-estimator-doc-link.fitted:hover {\n",
       "  /* fitted */\n",
       "  background-color: var(--sklearn-color-fitted-level-3);\n",
       "  color: var(--sklearn-color-background);\n",
       "  text-decoration: none;\n",
       "}\n",
       "\n",
       "/* Span, style for the box shown on hovering the info icon */\n",
       ".sk-estimator-doc-link span {\n",
       "  display: none;\n",
       "  z-index: 9999;\n",
       "  position: relative;\n",
       "  font-weight: normal;\n",
       "  right: .2ex;\n",
       "  padding: .5ex;\n",
       "  margin: .5ex;\n",
       "  width: min-content;\n",
       "  min-width: 20ex;\n",
       "  max-width: 50ex;\n",
       "  color: var(--sklearn-color-text);\n",
       "  box-shadow: 2pt 2pt 4pt #999;\n",
       "  /* unfitted */\n",
       "  background: var(--sklearn-color-unfitted-level-0);\n",
       "  border: .5pt solid var(--sklearn-color-unfitted-level-3);\n",
       "}\n",
       "\n",
       ".sk-estimator-doc-link.fitted span {\n",
       "  /* fitted */\n",
       "  background: var(--sklearn-color-fitted-level-0);\n",
       "  border: var(--sklearn-color-fitted-level-3);\n",
       "}\n",
       "\n",
       ".sk-estimator-doc-link:hover span {\n",
       "  display: block;\n",
       "}\n",
       "\n",
       "/* \"?\"-specific style due to the `<a>` HTML tag */\n",
       "\n",
       "#sk-container-id-1 a.estimator_doc_link {\n",
       "  float: right;\n",
       "  font-size: 1rem;\n",
       "  line-height: 1em;\n",
       "  font-family: monospace;\n",
       "  background-color: var(--sklearn-color-background);\n",
       "  border-radius: 1rem;\n",
       "  height: 1rem;\n",
       "  width: 1rem;\n",
       "  text-decoration: none;\n",
       "  /* unfitted */\n",
       "  color: var(--sklearn-color-unfitted-level-1);\n",
       "  border: var(--sklearn-color-unfitted-level-1) 1pt solid;\n",
       "}\n",
       "\n",
       "#sk-container-id-1 a.estimator_doc_link.fitted {\n",
       "  /* fitted */\n",
       "  border: var(--sklearn-color-fitted-level-1) 1pt solid;\n",
       "  color: var(--sklearn-color-fitted-level-1);\n",
       "}\n",
       "\n",
       "/* On hover */\n",
       "#sk-container-id-1 a.estimator_doc_link:hover {\n",
       "  /* unfitted */\n",
       "  background-color: var(--sklearn-color-unfitted-level-3);\n",
       "  color: var(--sklearn-color-background);\n",
       "  text-decoration: none;\n",
       "}\n",
       "\n",
       "#sk-container-id-1 a.estimator_doc_link.fitted:hover {\n",
       "  /* fitted */\n",
       "  background-color: var(--sklearn-color-fitted-level-3);\n",
       "}\n",
       "</style><div id=\"sk-container-id-1\" class=\"sk-top-container\"><div class=\"sk-text-repr-fallback\"><pre>GaussianMixture(covariance_type=&#x27;diag&#x27;, max_iter=10,\n",
       "                means_init=array([[2.11658842, 2.08841941, 0.1314554 , 0.18309859, 1.60172144,\n",
       "        1.69953052, 0.66353678, 3.6885759 , 2.26995305],\n",
       "       [2.11658842, 2.08841941, 0.1314554 , 0.18309859, 1.60172144,\n",
       "        1.69953052, 0.66353678, 3.6885759 , 2.26995305],\n",
       "       [2.11658842, 2.08841941, 0.1314554 , 0.18309859, 1.60172144,\n",
       "        1.69953052, 0.66353678, 3.6885759 , 2.26995305],\n",
       "       [2.11658842, 2.08841941, 0.1314554 , 0.18309859, 1.60172144,\n",
       "        1.69953052, 0.66353678, 3.6885759 , 2.26995305]]),\n",
       "                n_components=4)</pre><b>In a Jupyter environment, please rerun this cell to show the HTML representation or trust the notebook. <br />On GitHub, the HTML representation is unable to render, please try loading this page with nbviewer.org.</b></div><div class=\"sk-container\" hidden><div class=\"sk-item\"><div class=\"sk-estimator fitted sk-toggleable\"><input class=\"sk-toggleable__control sk-hidden--visually\" id=\"sk-estimator-id-1\" type=\"checkbox\" checked><label for=\"sk-estimator-id-1\" class=\"sk-toggleable__label fitted sk-toggleable__label-arrow\"><div><div>GaussianMixture</div></div><div><a class=\"sk-estimator-doc-link fitted\" rel=\"noreferrer\" target=\"_blank\" href=\"https://scikit-learn.org/1.6/modules/generated/sklearn.mixture.GaussianMixture.html\">?<span>Documentation for GaussianMixture</span></a><span class=\"sk-estimator-doc-link fitted\">i<span>Fitted</span></span></div></label><div class=\"sk-toggleable__content fitted\"><pre>GaussianMixture(covariance_type=&#x27;diag&#x27;, max_iter=10,\n",
       "                means_init=array([[2.11658842, 2.08841941, 0.1314554 , 0.18309859, 1.60172144,\n",
       "        1.69953052, 0.66353678, 3.6885759 , 2.26995305],\n",
       "       [2.11658842, 2.08841941, 0.1314554 , 0.18309859, 1.60172144,\n",
       "        1.69953052, 0.66353678, 3.6885759 , 2.26995305],\n",
       "       [2.11658842, 2.08841941, 0.1314554 , 0.18309859, 1.60172144,\n",
       "        1.69953052, 0.66353678, 3.6885759 , 2.26995305],\n",
       "       [2.11658842, 2.08841941, 0.1314554 , 0.18309859, 1.60172144,\n",
       "        1.69953052, 0.66353678, 3.6885759 , 2.26995305]]),\n",
       "                n_components=4)</pre></div> </div></div></div></div>"
      ],
      "text/plain": [
       "GaussianMixture(covariance_type='diag', max_iter=10,\n",
       "                means_init=array([[2.11658842, 2.08841941, 0.1314554 , 0.18309859, 1.60172144,\n",
       "        1.69953052, 0.66353678, 3.6885759 , 2.26995305],\n",
       "       [2.11658842, 2.08841941, 0.1314554 , 0.18309859, 1.60172144,\n",
       "        1.69953052, 0.66353678, 3.6885759 , 2.26995305],\n",
       "       [2.11658842, 2.08841941, 0.1314554 , 0.18309859, 1.60172144,\n",
       "        1.69953052, 0.66353678, 3.6885759 , 2.26995305],\n",
       "       [2.11658842, 2.08841941, 0.1314554 , 0.18309859, 1.60172144,\n",
       "        1.69953052, 0.66353678, 3.6885759 , 2.26995305]]),\n",
       "                n_components=4)"
      ]
     },
     "execution_count": 13,
     "metadata": {},
     "output_type": "execute_result"
    }
   ],
   "source": [
    "# Calcular las medias de cada clase\n",
    "means_class_0 = x_train[y_train_flat == 0].mean(axis=0).values.reshape(1, -1)\n",
    "means_class_1 = x_train[y_train_flat == 1].mean(axis=0).values.reshape(1, -1)\n",
    "\n",
    "# Iniciar los parámetros de los modelos GMM con las medias de cada clase\n",
    "means_init_0 = np.tile(means_class_0, (4, 1))\n",
    "means_init_1 = np.tile(means_class_1, (4, 1))\n",
    "\n",
    "# Entrenar el modelo GMM para cada clase\n",
    "gmm0 = GaussianMixture(n_components=4, means_init=means_init_0, covariance_type='diag', max_iter=10)\n",
    "gmm0.fit(x_train[y_train_flat == 0])\n",
    "\n",
    "gmm1 = GaussianMixture(n_components=4, means_init=means_init_1, covariance_type='diag', max_iter=10)\n",
    "gmm1.fit(x_train[y_train_flat == 1])"
   ]
  },
  {
   "cell_type": "code",
   "execution_count": 14,
   "id": "473027e9",
   "metadata": {},
   "outputs": [
    {
     "name": "stdout",
     "output_type": "stream",
     "text": [
      "Log-Verosimilitud clase 0:  -27.38289907858294\n",
      "Log-Verosimilitud clase 1:  -31.228826852742277\n"
     ]
    }
   ],
   "source": [
    "#Ver lo bueno que es el GMM, ver el ajuste por cada clase \n",
    "log_likelihood = gmm0.score(x_train)\n",
    "print(\"Log-Verosimilitud clase 0: \", log_likelihood)\n",
    "\n",
    "log_likelihood = gmm1.score(x_train)\n",
    "print(\"Log-Verosimilitud clase 1: \", log_likelihood)"
   ]
  },
  {
   "cell_type": "markdown",
   "id": "4de77c46",
   "metadata": {},
   "source": [
    "1.4 Construir sistemas con preprocesado, modelo a priori y cada uno de los modelos de verosimilitud"
   ]
  },
  {
   "cell_type": "markdown",
   "id": "caca72bf",
   "metadata": {},
   "source": [
    "Sistema con Naive Bayes "
   ]
  },
  {
   "cell_type": "code",
   "execution_count": 15,
   "id": "279e17b9",
   "metadata": {},
   "outputs": [
    {
     "name": "stdout",
     "output_type": "stream",
     "text": [
      "Probabilidades a priori:\n",
      "Air_Quality\n",
      "1    0.399375\n",
      "3    0.296563\n",
      "2    0.206250\n",
      "0    0.097812\n",
      "Name: count, dtype: float64\n",
      "Accuracy con conjunto train: 0.94875\n"
     ]
    }
   ],
   "source": [
    "def sistema_naive_bayes_categorical(x_train, y_train):\n",
    "    # Preprocesado: Filtrado por varianza\n",
    "    threshold = 0.1\n",
    "    sel = VarianceThreshold(threshold=threshold)\n",
    "    sel.set_output(transform='pandas')\n",
    "    x_train_preprocessed = sel.fit_transform(x_train)\n",
    "\n",
    "    # Codificación de y_train\n",
    "    categorias = y_train['Air_Quality'].unique()\n",
    "    categoria_codificada = {string: i for i, string in enumerate(categorias)}\n",
    "    y_train_codificado = y_train['Air_Quality'].map(categoria_codificada)\n",
    "\n",
    "    # Modelo a priori\n",
    "    clases = y_train_codificado.value_counts()\n",
    "    probs_priori = clases / len(y_train_codificado)\n",
    "    print(\"Probabilidades a priori:\")\n",
    "    print(probs_priori)\n",
    "\n",
    "    # Entrenamiento del modelo Naive Bayes con CategoricalNB\n",
    "    naive_bayes_categorical.fit(x_train_preprocessed, y_train_codificado)\n",
    "\n",
    "    # Predicción y evaluación\n",
    "    predicciones = naive_bayes_categorical.predict(x_train_preprocessed)\n",
    "    acc = np.mean(predicciones == y_train_codificado)\n",
    "    print(\"Accuracy con conjunto train:\", acc)\n",
    "\n",
    "    return naive_bayes_categorical, sel, categoria_codificada\n",
    "\n",
    "# Llamar al sistema\n",
    "modelo, selector_varianza, codificacion_categorias = sistema_naive_bayes_categorical(x_train, y_train)"
   ]
  },
  {
   "cell_type": "markdown",
   "id": "1e9e57ce",
   "metadata": {},
   "source": [
    "Sistema con MVN"
   ]
  },
  {
   "cell_type": "code",
   "execution_count": 16,
   "id": "aa43d4c1",
   "metadata": {},
   "outputs": [
    {
     "name": "stdout",
     "output_type": "stream",
     "text": [
      "Probabilidades a priori:\n",
      "Air_Quality\n",
      "1    0.399375\n",
      "3    0.296563\n",
      "2    0.206250\n",
      "0    0.097812\n",
      "Name: count, dtype: float64\n",
      "Accuracy con conjunto train: 0.924375\n"
     ]
    }
   ],
   "source": [
    "def sistema_mvn(x_train, y_train):\n",
    "    # Preprocesado: Filtrado por varianza\n",
    "    threshold = 0.1\n",
    "    sel = VarianceThreshold(threshold=threshold)\n",
    "    sel.set_output(transform='pandas')\n",
    "    x_train_preprocessed = sel.fit_transform(x_train)\n",
    "\n",
    "    # Codificación de y_train\n",
    "    categorias = y_train['Air_Quality'].unique()\n",
    "    categoria_codificada = {string: i for i, string in enumerate(categorias)}\n",
    "    y_train_codificado = y_train['Air_Quality'].map(categoria_codificada)\n",
    "\n",
    "    # Modelo a priori\n",
    "    clases = y_train_codificado.value_counts()\n",
    "    probs_priori = clases / len(y_train_codificado)\n",
    "    print(\"Probabilidades a priori:\")\n",
    "    print(probs_priori)\n",
    "\n",
    "    # Entrenamiento\n",
    "    modelo_mvn = train_mvn(y_train_codificado.values, x_train_preprocessed.values)\n",
    "\n",
    "    # Predicción y evaluación\n",
    "    predicciones = predict_mvn(x_train_preprocessed.values, modelo_mvn)\n",
    "    acc = np.mean(predicciones == y_train_codificado.values)\n",
    "    print(\"Accuracy con conjunto train:\", acc)\n",
    "\n",
    "    return modelo_mvn, sel, categoria_codificada\n",
    "\n",
    "# Llamar al sistema\n",
    "modelo_mvn, selector_varianza_mvn, codificacion_categorias_mvn = sistema_mvn(x_train, y_train)\n",
    "\n"
   ]
  },
  {
   "cell_type": "markdown",
   "id": "4e6f8f95",
   "metadata": {},
   "source": [
    "Sistema con GMM"
   ]
  },
  {
   "cell_type": "code",
   "execution_count": null,
   "id": "ae3a786e",
   "metadata": {},
   "outputs": [],
   "source": []
  },
  {
   "cell_type": "markdown",
   "id": "781a9195",
   "metadata": {},
   "source": [
    "1.5 Comparar los sistema con un conjunto de validación  (elegir uno de los sistemas)"
   ]
  },
  {
   "cell_type": "code",
   "execution_count": null,
   "id": "be436671",
   "metadata": {},
   "outputs": [],
   "source": []
  },
  {
   "cell_type": "markdown",
   "id": "a6e1f922",
   "metadata": {},
   "source": [
    "1.6 Almacenamiento objetos con Pickle"
   ]
  },
  {
   "cell_type": "code",
   "execution_count": null,
   "id": "de8887d2",
   "metadata": {},
   "outputs": [],
   "source": []
  },
  {
   "cell_type": "markdown",
   "id": "392baad2",
   "metadata": {},
   "source": [
    "**2-Implementación e inferencia**"
   ]
  },
  {
   "cell_type": "markdown",
   "id": "b91c64db",
   "metadata": {},
   "source": [
    "Creación script inferencia"
   ]
  },
  {
   "cell_type": "code",
   "execution_count": null,
   "id": "1663b27f",
   "metadata": {},
   "outputs": [],
   "source": []
  },
  {
   "cell_type": "markdown",
   "id": "f8a063a4",
   "metadata": {},
   "source": [
    "2.1 Cargar objetos guardados del sistema seleccionado"
   ]
  },
  {
   "cell_type": "code",
   "execution_count": null,
   "id": "34d2d4a1",
   "metadata": {},
   "outputs": [],
   "source": []
  },
  {
   "cell_type": "markdown",
   "id": "f1c1d2cc",
   "metadata": {},
   "source": [
    "2.2 Cargar conjunto de datos de test"
   ]
  },
  {
   "cell_type": "code",
   "execution_count": null,
   "id": "cc651cb6",
   "metadata": {},
   "outputs": [],
   "source": []
  },
  {
   "cell_type": "markdown",
   "id": "c25e4892",
   "metadata": {},
   "source": [
    "2.3 Ejecución objetos guardados y guardado etiquetas predichas en un CSV con el mismo formato que practica_Y_train.csv"
   ]
  },
  {
   "cell_type": "code",
   "execution_count": null,
   "id": "e5461926",
   "metadata": {},
   "outputs": [],
   "source": []
  },
  {
   "cell_type": "markdown",
   "id": "43d721f0",
   "metadata": {},
   "source": [
    "**3-Clustering**"
   ]
  },
  {
   "cell_type": "markdown",
   "id": "789e9c8b",
   "metadata": {},
   "source": [
    "3.1 Realizacion de clastering sobre el conjunto de datos practica_X_train.csv"
   ]
  },
  {
   "cell_type": "code",
   "execution_count": 41,
   "id": "fc8560ef",
   "metadata": {},
   "outputs": [
    {
     "name": "stdout",
     "output_type": "stream",
     "text": [
      "Accuracy: 0.81\n"
     ]
    }
   ],
   "source": [
    "from sklearn.cluster import KMeans\n",
    "from sklearn.preprocessing import StandardScaler\n",
    "from sklearn.metrics import accuracy_score\n",
    "\n",
    "\n",
    "# Escalar los datos\n",
    "scaler = StandardScaler()\n",
    "x_train_scaled = scaler.fit_transform(x_train)\n",
    "\n",
    "\n",
    "# Aplicar K-Means\n",
    "n_clusters = len(y_train['Air_Quality'].unique())  # Número de clusters igual al número de clases\n",
    "kmeans = KMeans(n_clusters=n_clusters, random_state=42)\n",
    "clusters = kmeans.fit_predict(x_train_scaled)\n",
    "\n",
    "# Relacionar clusters con etiquetas\n",
    "cluster_to_label = {}\n",
    "for cluster in range(n_clusters):\n",
    "    mask = clusters == cluster\n",
    "    most_common_label = y_train[mask]['Air_Quality'].mode()[0]\n",
    "    cluster_to_label[cluster] = most_common_label\n",
    "\n",
    "# Asignar etiquetas a los clusters\n",
    "y_pred = [cluster_to_label[cluster] for cluster in clusters]\n",
    "\n",
    "# Evaluar la precisión\n",
    "accuracy = accuracy_score(y_train['Air_Quality'], y_pred)\n",
    "print(f\"Accuracy: {accuracy:.2f}\")"
   ]
  },
  {
   "cell_type": "code",
   "execution_count": 42,
   "id": "dcf665e8",
   "metadata": {},
   "outputs": [
    {
     "data": {
      "image/png": "[encoded data removed]",
      "text/plain": [
       "<Figure size 1000x600 with 2 Axes>"
      ]
     },
     "metadata": {},
     "output_type": "display_data"
    }
   ],
   "source": [
    "import matplotlib.pyplot as plt\n",
    "from sklearn.decomposition import PCA\n",
    "\n",
    "# Reducir los datos a 2 dimensiones con PCA\n",
    "pca = PCA(n_components=2)\n",
    "x_train_pca = pca.fit_transform(x_train_scaled)\n",
    "\n",
    "# Crear un scatter plot de los datos clusterizados\n",
    "plt.figure(figsize=(10, 6))\n",
    "scatter = plt.scatter(x_train_pca[:, 0], x_train_pca[:, 1], c=clusters, cmap='viridis', alpha=0.6, s=50)\n",
    "plt.scatter(kmeans.cluster_centers_[:, 0], kmeans.cluster_centers_[:, 1], c='red', marker='X', s=200, label='Centroides')\n",
    "plt.colorbar(scatter, label='Cluster')\n",
    "plt.title(\"Visualización de Clusters (PCA)\")\n",
    "plt.xlabel(\"Componente Principal 1\")\n",
    "plt.ylabel(\"Componente Principal 2\")\n",
    "plt.legend()\n",
    "plt.show()"
   ]
  },
  {
   "cell_type": "markdown",
   "id": "ce641400",
   "metadata": {},
   "source": [
    "COMO EL PROFE   "
   ]
  },
  {
   "cell_type": "code",
   "execution_count": 29,
   "id": "cdaf95a5",
   "metadata": {},
   "outputs": [],
   "source": [
    "def inicializar_centroides_de_datos(K, X):\n",
    "    indices = np.random.choice(X.shape[0], K, replace=False)\n",
    "    return X[indices]\n",
    "\n",
    "# Distancia Manhattan\n",
    "def distancia_manhattan(A, B):\n",
    "    return np.sum(np.abs(A - B))\n",
    "\n",
    "# Distancia Euclídea\n",
    "def distancia_euclidea(A, B):\n",
    "    return np.sqrt(np.sum((A - B) ** 2))\n",
    "\n",
    "# Calcular nuevos centroides\n",
    "def calcular_nuevos_centroides(K, clusters, X):\n",
    "    centroides = np.zeros((K, X.shape[1]))  # Reserva de memoria\n",
    "    for idx, cluster in enumerate(clusters):\n",
    "        if len(cluster) > 0:  # Evitar divisiones por cero\n",
    "            nuevo_centroide = np.mean(X[cluster], axis=0)\n",
    "            centroides[idx] = nuevo_centroide\n",
    "    return centroides\n",
    "\n",
    "# Crear clusters\n",
    "def crear_clusters(K, X, centroides):\n",
    "    clusters = [[] for _ in range(K)]\n",
    "    for punto_idx, punto in enumerate(X):\n",
    "        centroide_mas_cercano_idx = np.argmin(\n",
    "            [distancia_euclidea(punto, centroide) for centroide in centroides]\n",
    "        )\n",
    "        clusters[centroide_mas_cercano_idx].append(punto_idx)\n",
    "    return clusters"
   ]
  },
  {
   "cell_type": "code",
   "execution_count": null,
   "id": "245ec6ca",
   "metadata": {},
   "outputs": [
    {
     "data": {
      "image/png": "[encoded data removed]",
      "text/plain": [
       "<Figure size 640x480 with 1 Axes>"
      ]
     },
     "metadata": {},
     "output_type": "display_data"
    }
   ],
   "source": [
    "import matplotlib.pyplot as plt\n",
    "\n",
    "# Configuración inicial\n",
    "seed = 42\n",
    "np.random.seed(seed)\n",
    "max_iters = 30\n",
    "K = 4 # Número de clusters\n",
    "\n",
    "X = x_train.values\n",
    "\n",
    "# Inicializar centroides\n",
    "centroides = inicializar_centroides_de_datos(K, X)\n",
    "\n",
    "# Visualización inicial\n",
    "plt.scatter(X[:, 0], X[:, 1], alpha=0.5)\n",
    "plt.scatter(centroides[:, 0], centroides[:, 1], color='red', marker='x', label='Centroides iniciales')\n",
    "\n",
    "# Algoritmo de clustering\n",
    "for _ in range(max_iters):\n",
    "    clusters = crear_clusters(K, X, centroides)\n",
    "    centroides_anteriores = centroides\n",
    "    centroides = calcular_nuevos_centroides(K, clusters, X)\n",
    "\n",
    "# Visualización final\n",
    "colors = ['magenta', 'green', 'cyan', 'orange']\n",
    "for k in range(K):\n",
    "    cluster_points = X[clusters[k]]\n",
    "    plt.scatter(cluster_points[:, 0], cluster_points[:, 1], color=colors[k], alpha=0.5, label=f'Cluster {k}')\n",
    "plt.scatter(centroides[:, 0], centroides[:, 1], color='red', marker='x', label='Centroides finales')\n",
    "plt.legend()\n",
    "plt.title(\"Clustering con K-Means\")\n",
    "plt.show()"
   ]
  },
  {
   "cell_type": "markdown",
   "id": "28b87e97",
   "metadata": {},
   "source": [
    "3.2.1 ¿Cuantos clusters has elegido?¿Elección relacionada con el número de clases? "
   ]
  },
  {
   "cell_type": "code",
   "execution_count": null,
   "id": "ac081df9",
   "metadata": {},
   "outputs": [
    {
     "data": {
      "image/png": "[encoded data removed]",
      "text/plain": [
       "<Figure size 640x480 with 1 Axes>"
      ]
     },
     "metadata": {},
     "output_type": "display_data"
    },
    {
     "data": {
      "text/plain": [
       "array([[0.23707665, 0.23079535, 0.01661574, 0.02330023, 0.17986589,\n",
       "        0.1899669 , 0.07775231, 0.40930312, 0.25167643],\n",
       "       [0.3844732 , 0.37132881, 0.06931608, 0.1025878 , 0.32902033,\n",
       "        0.31156295, 0.2754159 , 0.1554734 , 0.25179708],\n",
       "       [0.37481725, 0.36531433, 0.05530428, 0.08943257, 0.32931287,\n",
       "        0.31012427, 0.28746345, 0.15222953, 0.55866228],\n",
       "       [0.53926702, 0.50145433, 0.44502618, 0.49149215, 0.4904014 ,\n",
       "        0.44386271, 0.5008726 , 0.09773124, 0.59976731],\n",
       "       [0.55737044, 0.56039524, 0.06374773, 0.13316697, 0.51925791,\n",
       "        0.47610405, 0.52792902, 0.06271426, 0.60859044]])"
      ]
     },
     "execution_count": 40,
     "metadata": {},
     "output_type": "execute_result"
    }
   ],
   "source": [
    "from sklearn.cluster import KMeans\n",
    "\n",
    "# Encuentra el valor óptimo de K utilizando la curva del codo\n",
    "K_max = 10\n",
    "inertia = []\n",
    "clusters = []\n",
    "for k in range(1, K_max+1):\n",
    "    kmeans = KMeans(n_clusters=k,\n",
    "                    random_state=seed, n_init='auto')\n",
    "    kmeans.fit(X)\n",
    "    clusters.append(kmeans)\n",
    "    inertia.append(kmeans.inertia_)\n",
    "\n",
    "# Grafica la curva del codo\n",
    "plt.plot(range(1, K_max+1), inertia, marker='o')\n",
    "plt.xlabel('Número de Clusters (K)')\n",
    "plt.ylabel('WCSS')\n",
    "plt.title('Curva del Codo para K-means')\n",
    "plt.grid(True)\n",
    "plt.show()\n",
    "clusters[4].cluster_centers_ # Centroides reales y predichos"
   ]
  },
  {
   "cell_type": "markdown",
   "id": "34501c7e",
   "metadata": {},
   "source": [
    "3.2.2 Comparacion etiqueta de cada ejemplo de entrenamiento con el cluster asignado ¿Es posible crear una relación entre ambas?"
   ]
  },
  {
   "cell_type": "markdown",
   "id": "2c4a24e7",
   "metadata": {},
   "source": [
    "3.2.3 ¿A que cluster se le asignaría cada ejemplo del conjunto de test si se crea una relacion entre cluster y etiqueta? ¿Qué etiqueta asignarias a cada ejemplo de test?"
   ]
  },
  {
   "cell_type": "markdown",
   "id": "3466ec1f",
   "metadata": {},
   "source": [
    "3.2.4 Si tenemos etiquetas asociadas a los datos ¿Se puede utilizar clustering para hacer clasificación?"
   ]
  }
 ],
 "metadata": {
  "kernelspec": {
   "display_name": "Python 3",
   "language": "python",
   "name": "python3"
  },
  "language_info": {
   "codemirror_mode": {
    "name": "ipython",
    "version": 3
   },
   "file_extension": ".py",
   "mimetype": "text/x-python",
   "name": "python",
   "nbconvert_exporter": "python",
   "pygments_lexer": "ipython3",
   "version": "3.13.3"
  }
 },
 "nbformat": 4,
 "nbformat_minor": 5
}
