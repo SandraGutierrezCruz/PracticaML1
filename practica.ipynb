{
 "cells": [
  {
   "cell_type": "markdown",
   "id": "04148279",
   "metadata": {},
   "source": [
    "**1-Entrenamiento**"
   ]
  },
  {
   "cell_type": "code",
   "execution_count": 2,
   "id": "ac29a35f",
   "metadata": {},
   "outputs": [],
   "source": [
    "import pandas as pd  # pip install pandas\n",
    "from sklearn.model_selection import train_test_split # pip install scikit-learn\n"
   ]
  },
  {
   "cell_type": "code",
   "execution_count": 9,
   "id": "fd78546c",
   "metadata": {},
   "outputs": [
    {
     "name": "stdout",
     "output_type": "stream",
     "text": [
      "Tamaño X_train:  3200 \tTamaño Y_train:  3200\n",
      "Tamaño X_val  :  800 \tTamaño Y_val  :  800\n"
     ]
    }
   ],
   "source": [
    "X = pd.read_csv('practica_X_train.csv', sep=';', index_col=0)\n",
    "Y = pd.read_csv('practica_Y_train.csv', sep=';', index_col=0)\n",
    "\n",
    "X_train, X_val, Y_train, Y_val = train_test_split(X, Y, test_size=0.2, random_state=10)\n",
    "print(\"Tamaño X_train: \", len(X_train), \"\\tTamaño Y_train: \", len(Y_train))\n",
    "print(\"Tamaño X_val  : \", len(X_val), \"\\tTamaño Y_val  : \", len(Y_val))\n"
   ]
  },
  {
   "cell_type": "markdown",
   "id": "54bce256",
   "metadata": {},
   "source": [
    "1.1 Preprocesado ejemplos"
   ]
  },
  {
   "cell_type": "code",
   "execution_count": null,
   "id": "311dd3c4",
   "metadata": {},
   "outputs": [],
   "source": []
  },
  {
   "cell_type": "markdown",
   "id": "fadf2036",
   "metadata": {},
   "source": [
    "1.2 Construcción modelo a priori de la etiqueta (cada nivel de calidad del aire tiene un número difernte de ejemplos)"
   ]
  },
  {
   "cell_type": "code",
   "execution_count": null,
   "id": "4ef2fe70",
   "metadata": {},
   "outputs": [],
   "source": []
  },
  {
   "cell_type": "markdown",
   "id": "321b8b46",
   "metadata": {},
   "source": [
    "1.3 Construir distintos modelos de verosimilitud"
   ]
  },
  {
   "cell_type": "markdown",
   "id": "03a9b6ad",
   "metadata": {},
   "source": [
    "Naive Bayes "
   ]
  },
  {
   "cell_type": "code",
   "execution_count": null,
   "id": "c00d0261",
   "metadata": {},
   "outputs": [],
   "source": []
  },
  {
   "cell_type": "markdown",
   "id": "0e00c440",
   "metadata": {},
   "source": [
    "MVN"
   ]
  },
  {
   "cell_type": "code",
   "execution_count": null,
   "id": "4662bb81",
   "metadata": {},
   "outputs": [],
   "source": []
  },
  {
   "cell_type": "markdown",
   "id": "df495503",
   "metadata": {},
   "source": [
    "GMM"
   ]
  },
  {
   "cell_type": "code",
   "execution_count": null,
   "id": "6d9b854a",
   "metadata": {},
   "outputs": [],
   "source": []
  },
  {
   "cell_type": "markdown",
   "id": "4de77c46",
   "metadata": {},
   "source": [
    "1.4 Construir sistemas con preprocesado, modelo a priori y cada uno de los modelos de verosimilitud"
   ]
  },
  {
   "cell_type": "markdown",
   "id": "caca72bf",
   "metadata": {},
   "source": [
    "Sistema con Naive Bayes "
   ]
  },
  {
   "cell_type": "code",
   "execution_count": null,
   "id": "e140a917",
   "metadata": {},
   "outputs": [],
   "source": []
  },
  {
   "cell_type": "markdown",
   "id": "1e9e57ce",
   "metadata": {},
   "source": [
    "Sistema con MVN"
   ]
  },
  {
   "cell_type": "code",
   "execution_count": null,
   "id": "aa43d4c1",
   "metadata": {},
   "outputs": [],
   "source": []
  },
  {
   "cell_type": "markdown",
   "id": "4e6f8f95",
   "metadata": {},
   "source": [
    "Sistema con GMM"
   ]
  },
  {
   "cell_type": "code",
   "execution_count": null,
   "id": "ae3a786e",
   "metadata": {},
   "outputs": [],
   "source": []
  },
  {
   "cell_type": "markdown",
   "id": "781a9195",
   "metadata": {},
   "source": [
    "1.5 Comparar los sistema con un conjunto de validación  (elegir uno de los sistemas)"
   ]
  },
  {
   "cell_type": "code",
   "execution_count": null,
   "id": "be436671",
   "metadata": {},
   "outputs": [],
   "source": []
  },
  {
   "cell_type": "markdown",
   "id": "a6e1f922",
   "metadata": {},
   "source": [
    "1.6 Almacenamiento objetos con Pickle"
   ]
  },
  {
   "cell_type": "code",
   "execution_count": null,
   "id": "de8887d2",
   "metadata": {},
   "outputs": [],
   "source": []
  },
  {
   "cell_type": "markdown",
   "id": "392baad2",
   "metadata": {},
   "source": [
    "**2-Implementación e inferencia**"
   ]
  },
  {
   "cell_type": "markdown",
   "id": "b91c64db",
   "metadata": {},
   "source": [
    "Creación script inferencia"
   ]
  },
  {
   "cell_type": "code",
   "execution_count": null,
   "id": "1663b27f",
   "metadata": {},
   "outputs": [],
   "source": []
  },
  {
   "cell_type": "markdown",
   "id": "f8a063a4",
   "metadata": {},
   "source": [
    "2.1 Cargar objetos guardados del sistema seleccionado"
   ]
  },
  {
   "cell_type": "code",
   "execution_count": null,
   "id": "34d2d4a1",
   "metadata": {},
   "outputs": [],
   "source": []
  },
  {
   "cell_type": "markdown",
   "id": "f1c1d2cc",
   "metadata": {},
   "source": [
    "2.2 Cargar conjunto de datos de test"
   ]
  },
  {
   "cell_type": "code",
   "execution_count": null,
   "id": "cc651cb6",
   "metadata": {},
   "outputs": [],
   "source": []
  },
  {
   "cell_type": "markdown",
   "id": "c25e4892",
   "metadata": {},
   "source": [
    "2.3 Ejecución objetos guardados y guardado etiquetas predichas en un CSV con el mismo formato que practica_Y_train.csv"
   ]
  },
  {
   "cell_type": "code",
   "execution_count": null,
   "id": "e5461926",
   "metadata": {},
   "outputs": [],
   "source": []
  },
  {
   "cell_type": "markdown",
   "id": "43d721f0",
   "metadata": {},
   "source": [
    "**3-Clustering**"
   ]
  },
  {
   "cell_type": "markdown",
   "id": "789e9c8b",
   "metadata": {},
   "source": [
    "3.1 Realizacion de clastering sobre el conjunto de datos practica_X_train.csv"
   ]
  },
  {
   "cell_type": "code",
   "execution_count": null,
   "id": "ccef87d8",
   "metadata": {},
   "outputs": [],
   "source": []
  },
  {
   "cell_type": "markdown",
   "id": "28b87e97",
   "metadata": {},
   "source": [
    "3.2.1 ¿Cuantos clusters has elegido?¿Elección relacionada con el número de clases? "
   ]
  },
  {
   "cell_type": "markdown",
   "id": "34501c7e",
   "metadata": {},
   "source": [
    "3.2.2 Comparacion etiqueta de cada ejemplo de entrenamiento con el cluster asignado ¿Es posible crear una relación entre ambas?"
   ]
  },
  {
   "cell_type": "markdown",
   "id": "2c4a24e7",
   "metadata": {},
   "source": [
    "3.2.3 ¿A que cluster se le asignaría cada ejemplo del conjunto de test si se crea una relacion entre cluster y etiqueta? ¿Qué etiqueta asignarias a cada ejemplo de test?"
   ]
  },
  {
   "cell_type": "markdown",
   "id": "3466ec1f",
   "metadata": {},
   "source": [
    "3.2.4 Si tenemos etiquetas asociadas a los datos ¿Se puede utilizar clustering para hacer clasificación?"
   ]
  }
 ],
 "metadata": {
  "kernelspec": {
   "display_name": "Python 3",
   "language": "python",
   "name": "python3"
  },
  "language_info": {
   "codemirror_mode": {
    "name": "ipython",
    "version": 3
   },
   "file_extension": ".py",
   "mimetype": "text/x-python",
   "name": "python",
   "nbconvert_exporter": "python",
   "pygments_lexer": "ipython3",
   "version": "3.13.2"
  }
 },
 "nbformat": 4,
 "nbformat_minor": 5
}
