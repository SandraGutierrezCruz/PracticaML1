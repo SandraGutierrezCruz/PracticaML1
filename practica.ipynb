{
 "cells": [
  {
   "cell_type": "code",
   "execution_count": 4,
   "id": "6b6d9068",
   "metadata": {},
   "outputs": [],
   "source": [
    "import pandas as pd\n",
    "import numpy as np\n",
    "from sklearn.model_selection import train_test_split\n",
    "from sklearn.naive_bayes import GaussianNB\n",
    "from scipy.stats import multivariate_normal as mvn\n",
    "from sklearn.feature_selection import VarianceThreshold"
   ]
  },
  {
   "cell_type": "markdown",
   "id": "04148279",
   "metadata": {},
   "source": [
    "**1-Entrenamiento**"
   ]
  },
  {
   "cell_type": "markdown",
   "id": "6be470f1",
   "metadata": {},
   "source": [
    "Carga de los datos de entrenamiento "
   ]
  },
  {
   "cell_type": "code",
   "execution_count": 5,
   "id": "fa303cb2",
   "metadata": {},
   "outputs": [
    {
     "name": "stdout",
     "output_type": "stream",
     "text": [
      "      Temperature  Humidity  PM2.5  PM10  NO2  SO2   CO  \\\n",
      "41            3.0       6.0    2.0   2.0  4.0  5.0  3.0   \n",
      "3777          1.0       2.0    0.0   0.0  3.0  1.0  1.0   \n",
      "2998          2.0       3.0    0.0   0.0  2.0  1.0  1.0   \n",
      "4469          6.0       2.0    5.0   5.0  5.0  5.0  2.0   \n",
      "3422          2.0       1.0    0.0   0.0  0.0  2.0  1.0   \n",
      "\n",
      "      Proximity_to_Industrial_Areas  Population_Density  \n",
      "41                              0.0                 7.0  \n",
      "3777                            3.0                 3.0  \n",
      "2998                            3.0                 0.0  \n",
      "4469                            0.0                 6.0  \n",
      "3422                            3.0                 2.0  \n",
      "     Air_Quality\n",
      "41          Poor\n",
      "3777        Good\n",
      "2998        Good\n",
      "4469        Poor\n",
      "3422        Good\n"
     ]
    }
   ],
   "source": [
    "x_train = pd.read_csv('practica_X_train.csv', sep=';', index_col=0)\n",
    "y_train = pd.read_csv('practica_Y_train.csv', sep=';', index_col=0)\n",
    "\n",
    "print(x_train.head())\n",
    "print(y_train.head())"
   ]
  },
  {
   "cell_type": "markdown",
   "id": "54bce256",
   "metadata": {},
   "source": [
    "1.1 Preprocesado ejemplos"
   ]
  },
  {
   "cell_type": "markdown",
   "id": "1af6c3ed",
   "metadata": {},
   "source": [
    "Como el conjunto de datos x_train son datos continuos y en el enunciado se nos dice que no tenemos valores perdidos y en los modelos de Naive Bayes, MVN y GMM los datos de tipo continuo son buenas entradas. \n",
    "\n",
    "Por lo tanto, el único preprocesado que sería necesario para poder trabajar con el coinjunto de test es codificar el atributo categórico del conjunto de y_train y aplicar un filtrado por varianza al conjunto de datos de x_train para descartar aquellas columnas que no aporten información. "
   ]
  },
  {
   "cell_type": "code",
   "execution_count": null,
   "id": "311dd3c4",
   "metadata": {},
   "outputs": [],
   "source": [
    "#filtrado por varianza conjunto x_train\n",
    "thereshold = 0.1\n",
    "\n",
    "sel = VarianceThreshold(threshold=thereshold)\n",
    "sel.set_output(transform='pandas')\n",
    "x_train = sel.fit_transform(x_train)"
   ]
  },
  {
   "cell_type": "code",
   "execution_count": null,
   "id": "eb089d95",
   "metadata": {},
   "outputs": [
    {
     "name": "stdout",
     "output_type": "stream",
     "text": [
      "      Air_Quality\n",
      "41              0\n",
      "3777            1\n",
      "2998            1\n",
      "4469            0\n",
      "3422            1\n"
     ]
    }
   ],
   "source": [
    "#codificación conjunto y_train\n",
    "categoria = y_train['Air_Quality'].unique()\n",
    "categoria_codificada ={string:i for i,string in enumerate(categoria)} #diccionario de codificación\n",
    "cat = y_train['Air_Quality'].map(categoria_codificada)\n",
    "\n",
    "y_train['Air_Quality'] = cat\n",
    "print(y_train.head())"
   ]
  },
  {
   "cell_type": "markdown",
   "id": "fadf2036",
   "metadata": {},
   "source": [
    "1.2 Construcción modelo a priori de la etiqueta (cada nivel de calidad del aire tiene un número difernte de ejemplos)"
   ]
  },
  {
   "cell_type": "code",
   "execution_count": 7,
   "id": "4ef2fe70",
   "metadata": {},
   "outputs": [
    {
     "name": "stdout",
     "output_type": "stream",
     "text": [
      "Probabilidades a priori: \n",
      "Air_Quality\n",
      "Good         0.4\n",
      "Moderate     0.3\n",
      "Poor         0.2\n",
      "Hazardous    0.1\n",
      "Name: count, dtype: float64\n"
     ]
    }
   ],
   "source": [
    "clases = y_train['Air_Quality'].value_counts()  # Cantidad de todas las soluciones distintas\n",
    "Probs_priori = clases / len(y_train)\n",
    "print(\"Probabilidades a priori: \")\n",
    "print(Probs_priori)"
   ]
  },
  {
   "cell_type": "markdown",
   "id": "321b8b46",
   "metadata": {},
   "source": [
    "1.3 Construir distintos modelos de verosimilitud"
   ]
  },
  {
   "cell_type": "markdown",
   "id": "03a9b6ad",
   "metadata": {},
   "source": [
    "Naive Bayes "
   ]
  },
  {
   "cell_type": "code",
   "execution_count": 8,
   "id": "c00d0261",
   "metadata": {},
   "outputs": [
    {
     "name": "stdout",
     "output_type": "stream",
     "text": [
      "Probabilidades a priori con Naive Bayes\n",
      "[0.4 0.1 0.3 0.2]\n",
      "acc con conjunto train: 0.9175\n"
     ]
    }
   ],
   "source": [
    "naive_bayes = GaussianNB()\n",
    "naive_bayes.fit(x_train, y_train.values.ravel()) # con y_train.values.ravel() \n",
    "                                                 # cambiamos de lista pandas a numpy\n",
    "                                                 # Es para que solo nos den los valores \n",
    "                                                 # Sino te da un enlace raro tambien\n",
    "print(\"Probabilidades a priori con Naive Bayes\") \n",
    "print(naive_bayes.class_prior_) # Solo para comprobar las probabilidades de las clases\n",
    "\n",
    "predicciones = naive_bayes.predict(x_train)\n",
    "cont = 0\n",
    "for y_hat, y_true in zip(predicciones, y_train.values.ravel()):\n",
    "    if (y_true == y_hat):\n",
    "        cont += 1\n",
    "print(\"acc con conjunto train:\", cont / len(predicciones))\n"
   ]
  },
  {
   "cell_type": "markdown",
   "id": "0e00c440",
   "metadata": {},
   "source": [
    "MVN"
   ]
  },
  {
   "cell_type": "code",
   "execution_count": 9,
   "id": "4662bb81",
   "metadata": {},
   "outputs": [],
   "source": [
    "def train_mvn(Y_TRAIN, X_TRAIN):\n",
    "    estadisticas_modelo = {}\n",
    "    clases = np.unique(Y_TRAIN)\n",
    "    for clase in clases:\n",
    "        datos_clase = X_TRAIN[Y_TRAIN == clase]\n",
    "\n",
    "        media = np.mean(datos_clase, axis=0)\n",
    "        covarianza = np.cov(datos_clase, rowvar=False)\n",
    "        covarianza += np.eye(covarianza.shape[0]) * 1e-6\n",
    "\n",
    "        modelo = mvn(mean=media, cov=covarianza)\n",
    "\n",
    "        estadisticas_modelo[clase] = {\"media\": media, \"covarianza\": covarianza, \"modelo\": modelo}\n",
    "    return estadisticas_modelo\n",
    "\n",
    "def predict_mvn(x_a_predecir, estadisticas):\n",
    "    # Predecimos probabilidades primero\n",
    "    probs = []\n",
    "    clases = list(estadisticas.keys())\n",
    "    for clase in clases:\n",
    "        modelo = estadisticas[clase][\"modelo\"]\n",
    "        p = modelo.logpdf(x_a_predecir)\n",
    "        probs.append(p)\n",
    "    probs = np.array(probs).T\n",
    "    y_hat = np.argmax(probs, axis=1)\n",
    "    return np.array(clases)[y_hat]\n",
    "    "
   ]
  },
  {
   "cell_type": "code",
   "execution_count": 10,
   "id": "936ad8d4",
   "metadata": {},
   "outputs": [
    {
     "name": "stdout",
     "output_type": "stream",
     "text": [
      "acc con conjunto train:  0.92625\n"
     ]
    }
   ],
   "source": [
    "y_train_flat = y_train.values.ravel()\n",
    "\n",
    "estadisticas_MVN = train_mvn(y_train_flat, x_train.values)\n",
    "\n",
    "y_hat = predict_mvn(x_train.values, estadisticas_MVN)\n",
    "acc = np.mean(y_hat == y_train_flat)\n",
    "print(\"acc con conjunto train: \", acc)"
   ]
  },
  {
   "cell_type": "markdown",
   "id": "df495503",
   "metadata": {},
   "source": [
    "GMM"
   ]
  },
  {
   "cell_type": "code",
   "execution_count": null,
   "id": "e7e10af8",
   "metadata": {},
   "outputs": [],
   "source": []
  },
  {
   "cell_type": "markdown",
   "id": "4de77c46",
   "metadata": {},
   "source": [
    "1.4 Construir sistemas con preprocesado, modelo a priori y cada uno de los modelos de verosimilitud"
   ]
  },
  {
   "cell_type": "markdown",
   "id": "caca72bf",
   "metadata": {},
   "source": [
    "Sistema con Naive Bayes "
   ]
  },
  {
   "cell_type": "code",
   "execution_count": null,
   "id": "e140a917",
   "metadata": {},
   "outputs": [],
   "source": []
  },
  {
   "cell_type": "markdown",
   "id": "1e9e57ce",
   "metadata": {},
   "source": [
    "Sistema con MVN"
   ]
  },
  {
   "cell_type": "code",
   "execution_count": null,
   "id": "aa43d4c1",
   "metadata": {},
   "outputs": [],
   "source": []
  },
  {
   "cell_type": "markdown",
   "id": "4e6f8f95",
   "metadata": {},
   "source": [
    "Sistema con GMM"
   ]
  },
  {
   "cell_type": "code",
   "execution_count": null,
   "id": "ae3a786e",
   "metadata": {},
   "outputs": [],
   "source": []
  },
  {
   "cell_type": "markdown",
   "id": "781a9195",
   "metadata": {},
   "source": [
    "1.5 Comparar los sistema con un conjunto de validación  (elegir uno de los sistemas)"
   ]
  },
  {
   "cell_type": "code",
   "execution_count": null,
   "id": "be436671",
   "metadata": {},
   "outputs": [],
   "source": []
  },
  {
   "cell_type": "markdown",
   "id": "a6e1f922",
   "metadata": {},
   "source": [
    "1.6 Almacenamiento objetos con Pickle"
   ]
  },
  {
   "cell_type": "code",
   "execution_count": null,
   "id": "de8887d2",
   "metadata": {},
   "outputs": [],
   "source": []
  },
  {
   "cell_type": "markdown",
   "id": "392baad2",
   "metadata": {},
   "source": [
    "**2-Implementación e inferencia**"
   ]
  },
  {
   "cell_type": "markdown",
   "id": "b91c64db",
   "metadata": {},
   "source": [
    "Creación script inferencia"
   ]
  },
  {
   "cell_type": "code",
   "execution_count": null,
   "id": "1663b27f",
   "metadata": {},
   "outputs": [],
   "source": []
  },
  {
   "cell_type": "markdown",
   "id": "f8a063a4",
   "metadata": {},
   "source": [
    "2.1 Cargar objetos guardados del sistema seleccionado"
   ]
  },
  {
   "cell_type": "code",
   "execution_count": null,
   "id": "34d2d4a1",
   "metadata": {},
   "outputs": [],
   "source": []
  },
  {
   "cell_type": "markdown",
   "id": "f1c1d2cc",
   "metadata": {},
   "source": [
    "2.2 Cargar conjunto de datos de test"
   ]
  },
  {
   "cell_type": "code",
   "execution_count": null,
   "id": "cc651cb6",
   "metadata": {},
   "outputs": [],
   "source": []
  },
  {
   "cell_type": "markdown",
   "id": "c25e4892",
   "metadata": {},
   "source": [
    "2.3 Ejecución objetos guardados y guardado etiquetas predichas en un CSV con el mismo formato que practica_Y_train.csv"
   ]
  },
  {
   "cell_type": "code",
   "execution_count": null,
   "id": "e5461926",
   "metadata": {},
   "outputs": [],
   "source": []
  },
  {
   "cell_type": "markdown",
   "id": "43d721f0",
   "metadata": {},
   "source": [
    "**3-Clustering**"
   ]
  },
  {
   "cell_type": "markdown",
   "id": "789e9c8b",
   "metadata": {},
   "source": [
    "3.1 Realizacion de clastering sobre el conjunto de datos practica_X_train.csv"
   ]
  },
  {
   "cell_type": "code",
   "execution_count": null,
   "id": "ccef87d8",
   "metadata": {},
   "outputs": [],
   "source": []
  },
  {
   "cell_type": "markdown",
   "id": "28b87e97",
   "metadata": {},
   "source": [
    "3.2.1 ¿Cuantos clusters has elegido?¿Elección relacionada con el número de clases? "
   ]
  },
  {
   "cell_type": "markdown",
   "id": "34501c7e",
   "metadata": {},
   "source": [
    "3.2.2 Comparacion etiqueta de cada ejemplo de entrenamiento con el cluster asignado ¿Es posible crear una relación entre ambas?"
   ]
  },
  {
   "cell_type": "markdown",
   "id": "2c4a24e7",
   "metadata": {},
   "source": [
    "3.2.3 ¿A que cluster se le asignaría cada ejemplo del conjunto de test si se crea una relacion entre cluster y etiqueta? ¿Qué etiqueta asignarias a cada ejemplo de test?"
   ]
  },
  {
   "cell_type": "markdown",
   "id": "3466ec1f",
   "metadata": {},
   "source": [
    "3.2.4 Si tenemos etiquetas asociadas a los datos ¿Se puede utilizar clustering para hacer clasificación?"
   ]
  }
 ],
 "metadata": {
  "kernelspec": {
   "display_name": "Python 3",
   "language": "python",
   "name": "python3"
  },
  "language_info": {
   "codemirror_mode": {
    "name": "ipython",
    "version": 3
   },
   "file_extension": ".py",
   "mimetype": "text/x-python",
   "name": "python",
   "nbconvert_exporter": "python",
   "pygments_lexer": "ipython3",
   "version": "3.12.1"
  }
 },
 "nbformat": 4,
 "nbformat_minor": 5
}
