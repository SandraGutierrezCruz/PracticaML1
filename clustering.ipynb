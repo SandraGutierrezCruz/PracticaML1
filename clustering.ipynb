{
 "cells": [
  {
   "cell_type": "code",
   "execution_count": 1,
   "id": "82a69fa8",
   "metadata": {},
   "outputs": [],
   "source": [
    "from sklearn.cluster import KMeans\n",
    "from sklearn.preprocessing import StandardScaler\n",
    "from sklearn.metrics import accuracy_score\n",
    "import pandas as pd\n",
    "import numpy as np\n",
    "import matplotlib.pyplot as plt\n",
    "from sklearn.model_selection import train_test_split"
   ]
  },
  {
   "cell_type": "code",
   "execution_count": 2,
   "id": "83ef8d1b",
   "metadata": {},
   "outputs": [],
   "source": [
    "x_train = pd.read_csv('practica_X_train.csv', sep=';', index_col=0)\n",
    "y_train = pd.read_csv('practica_Y_train.csv', sep=';', index_col=0)\n",
    "\n",
    "# Dividir los datos en conjuntos de entrenamiento y validación\n",
    "x_train, x_val, y_train, y_val = train_test_split(x_train, y_train, test_size=0.2, random_state=42)\n"
   ]
  },
  {
   "cell_type": "markdown",
   "id": "5cadb334",
   "metadata": {},
   "source": [
    "3.1 Realizacion de clustering sobre el conjunto de datos practica_X_train.csv"
   ]
  },
  {
   "cell_type": "code",
   "execution_count": 3,
   "id": "50f04da3",
   "metadata": {},
   "outputs": [],
   "source": [
    "# Escalar los datos\n",
    "scaler = StandardScaler()\n",
    "x_train_scaled = scaler.fit_transform(x_train)\n",
    "\n",
    "# Elegir el número de clusters igual al número de clases en y_train\n",
    "n_clusters = len(y_train['Air_Quality'].unique())\n",
    "kmeans = KMeans(n_clusters=n_clusters, random_state=42)\n",
    "clusters = kmeans.fit_predict(x_train_scaled)"
   ]
  },
  {
   "cell_type": "markdown",
<<<<<<< HEAD
=======
   "id": "b13e6438",
   "metadata": {},
   "source": [
    "3.2.1 ¿Cuantos clusters has elegido?¿Elección relacionada con el número de clases? "
   ]
  },
  {
   "cell_type": "code",
   "execution_count": 4,
   "id": "8486af95",
   "metadata": {},
   "outputs": [
    {
     "name": "stdout",
     "output_type": "stream",
     "text": [
      "Número de clusters elegidos: 4\n",
      "La elección está relacionada con el número de clases porque queremos explorar si los clusters pueden representar las clases.\n"
     ]
    }
   ],
   "source": [
    "print(\"Número de clusters elegidos:\", n_clusters)\n",
    "print(\"La elección está relacionada con el número de clases porque queremos explorar si los clusters pueden representar las clases.\")"
   ]
  },
  {
   "cell_type": "markdown",
>>>>>>> 69054a4 (pickle)
   "id": "569406fe",
   "metadata": {},
   "source": [
    "3.2.2 Comparacion etiqueta de cada ejemplo de entrenamiento con el cluster asignado ¿Es posible crear una relación entre ambas?"
   ]
  },
  {
   "cell_type": "code",
   "execution_count": 5,
   "id": "ef3e6e5e",
   "metadata": {},
   "outputs": [
    {
     "name": "stdout",
     "output_type": "stream",
     "text": [
      "Relación entre clusters y etiquetas:\n",
      "{0: 'Good', 1: 'Moderate', 2: 'Poor', 3: 'Poor'}\n"
     ]
    }
   ],
   "source": [
    "y_train['Cluster'] = clusters\n",
    "cluster_to_label = {}\n",
    "for cluster in range(n_clusters):\n",
    "    mask = y_train['Cluster'] == cluster\n",
    "    most_common_label = y_train[mask]['Air_Quality'].mode()[0]\n",
    "    cluster_to_label[cluster] = most_common_label\n",
    "\n",
    "# Mostrar la relación entre clusters y etiquetas\n",
    "print(\"Relación entre clusters y etiquetas:\")\n",
    "print(cluster_to_label)"
   ]
  },
  {
   "cell_type": "markdown",
   "id": "11cabc36",
   "metadata": {},
   "source": [
    "3.2.3 ¿A que cluster se le asignaría cada ejemplo del conjunto de test si se crea una relacion entre cluster y etiqueta? ¿Qué etiqueta asignarias a cada ejemplo de test?"
   ]
  },
  {
   "cell_type": "code",
   "execution_count": 6,
   "id": "a4360c30",
   "metadata": {},
   "outputs": [
    {
     "name": "stdout",
     "output_type": "stream",
     "text": [
      "Etiquetas asignadas a los ejemplos de test:\n",
      "['Moderate', 'Poor', 'Good', 'Good', 'Good', 'Moderate', 'Poor', 'Poor', 'Good', 'Moderate', 'Poor', 'Poor', 'Moderate', 'Good', 'Moderate', 'Moderate', 'Good', 'Moderate', 'Poor', 'Good', 'Moderate', 'Good', 'Moderate', 'Poor', 'Good', 'Moderate', 'Poor', 'Good', 'Poor', 'Good', 'Good', 'Moderate', 'Good', 'Good', 'Moderate', 'Poor', 'Poor', 'Moderate', 'Good', 'Good', 'Poor', 'Moderate', 'Moderate', 'Poor', 'Good', 'Good', 'Moderate', 'Good', 'Moderate', 'Poor', 'Moderate', 'Moderate', 'Good', 'Moderate', 'Good', 'Good', 'Poor', 'Good', 'Moderate', 'Good', 'Good', 'Good', 'Moderate', 'Moderate', 'Good', 'Good', 'Moderate', 'Poor', 'Good', 'Poor', 'Poor', 'Poor', 'Poor', 'Good', 'Moderate', 'Moderate', 'Moderate', 'Good', 'Good', 'Good', 'Moderate', 'Moderate', 'Moderate', 'Poor', 'Good', 'Good', 'Good', 'Moderate', 'Good', 'Good', 'Good', 'Poor', 'Poor', 'Good', 'Poor', 'Poor', 'Good', 'Moderate', 'Moderate', 'Good', 'Good', 'Poor', 'Good', 'Good', 'Poor', 'Poor', 'Good', 'Moderate', 'Moderate', 'Moderate', 'Good', 'Poor', 'Moderate', 'Moderate', 'Good', 'Poor', 'Poor', 'Good', 'Good', 'Good', 'Good', 'Moderate', 'Poor', 'Moderate', 'Moderate', 'Moderate', 'Moderate', 'Good', 'Poor', 'Good', 'Moderate', 'Moderate', 'Moderate', 'Poor', 'Poor', 'Good', 'Good', 'Moderate', 'Poor', 'Good', 'Good', 'Good', 'Good', 'Poor', 'Poor', 'Moderate', 'Poor', 'Good', 'Moderate', 'Good', 'Good', 'Good', 'Poor', 'Moderate', 'Good', 'Moderate', 'Poor', 'Moderate', 'Moderate', 'Poor', 'Good', 'Moderate', 'Poor', 'Good', 'Poor', 'Good', 'Poor', 'Good', 'Good', 'Moderate', 'Good', 'Poor', 'Poor', 'Good', 'Good', 'Moderate', 'Moderate', 'Poor', 'Moderate', 'Moderate', 'Poor', 'Good', 'Moderate', 'Good', 'Moderate', 'Poor', 'Poor', 'Good', 'Good', 'Poor', 'Moderate', 'Moderate', 'Good', 'Good', 'Moderate', 'Poor', 'Moderate', 'Good', 'Poor', 'Moderate', 'Poor', 'Poor', 'Moderate', 'Good', 'Good', 'Moderate', 'Moderate', 'Good', 'Poor', 'Good', 'Poor', 'Moderate', 'Good', 'Poor', 'Moderate', 'Poor', 'Moderate', 'Moderate', 'Poor', 'Good', 'Good', 'Moderate', 'Good', 'Poor', 'Moderate', 'Poor', 'Moderate', 'Moderate', 'Poor', 'Good', 'Moderate', 'Poor', 'Moderate', 'Good', 'Moderate', 'Moderate', 'Good', 'Poor', 'Poor', 'Moderate', 'Poor', 'Moderate', 'Moderate', 'Moderate', 'Good', 'Poor', 'Moderate', 'Poor', 'Moderate', 'Good', 'Good', 'Poor', 'Good', 'Moderate', 'Moderate', 'Good', 'Good', 'Good', 'Moderate', 'Good', 'Good', 'Poor', 'Moderate', 'Good', 'Good', 'Poor', 'Good', 'Moderate', 'Good', 'Poor', 'Moderate', 'Poor', 'Good', 'Poor', 'Moderate', 'Good', 'Poor', 'Moderate', 'Moderate', 'Good', 'Moderate', 'Moderate', 'Moderate', 'Poor', 'Good', 'Poor', 'Poor', 'Good', 'Good', 'Moderate', 'Good', 'Good', 'Moderate', 'Moderate', 'Moderate', 'Poor', 'Good', 'Good', 'Poor', 'Poor', 'Moderate', 'Poor', 'Poor', 'Good', 'Poor', 'Good', 'Moderate', 'Moderate', 'Moderate', 'Good', 'Poor', 'Poor', 'Good', 'Poor', 'Good', 'Good', 'Poor', 'Poor', 'Good', 'Good', 'Poor', 'Moderate', 'Moderate', 'Moderate', 'Moderate', 'Moderate', 'Moderate', 'Poor', 'Good', 'Moderate', 'Moderate', 'Moderate', 'Moderate', 'Moderate', 'Good', 'Good', 'Moderate', 'Moderate', 'Poor', 'Good', 'Good', 'Good', 'Moderate', 'Poor', 'Poor', 'Poor', 'Moderate', 'Good', 'Poor', 'Good', 'Poor', 'Moderate', 'Moderate', 'Poor', 'Good', 'Good', 'Good', 'Poor', 'Poor', 'Poor', 'Good', 'Moderate', 'Good', 'Good', 'Good', 'Good', 'Moderate', 'Good', 'Good', 'Moderate', 'Moderate', 'Poor', 'Good', 'Moderate', 'Moderate', 'Poor', 'Good', 'Good', 'Good', 'Moderate', 'Poor', 'Good', 'Moderate', 'Good', 'Good', 'Moderate', 'Moderate', 'Good', 'Poor', 'Poor', 'Moderate', 'Good', 'Good', 'Good', 'Poor', 'Moderate', 'Good', 'Good', 'Poor', 'Moderate', 'Good', 'Good', 'Poor', 'Good', 'Poor', 'Good', 'Moderate', 'Poor', 'Good', 'Good', 'Moderate', 'Good', 'Good', 'Good', 'Moderate', 'Good', 'Good', 'Good', 'Moderate', 'Moderate', 'Good', 'Good', 'Good', 'Good', 'Poor', 'Moderate', 'Moderate', 'Poor', 'Good', 'Moderate', 'Poor', 'Moderate', 'Good', 'Good', 'Moderate', 'Poor', 'Good', 'Good', 'Moderate', 'Good', 'Poor', 'Poor', 'Moderate', 'Moderate', 'Good', 'Poor', 'Moderate', 'Moderate', 'Good', 'Good', 'Good', 'Good', 'Poor', 'Moderate', 'Good', 'Good', 'Moderate', 'Poor', 'Good', 'Moderate', 'Good', 'Good', 'Moderate', 'Good', 'Good', 'Good', 'Good', 'Poor', 'Poor', 'Good', 'Good', 'Good', 'Good', 'Good', 'Good', 'Moderate', 'Poor', 'Poor', 'Moderate', 'Good', 'Good', 'Good', 'Moderate', 'Moderate', 'Good', 'Poor', 'Moderate', 'Moderate', 'Moderate', 'Moderate', 'Poor', 'Moderate', 'Poor', 'Moderate', 'Poor', 'Moderate', 'Moderate', 'Moderate', 'Moderate', 'Good', 'Good', 'Good', 'Moderate', 'Good', 'Good', 'Moderate', 'Good', 'Good', 'Good', 'Poor', 'Poor', 'Good', 'Poor', 'Moderate', 'Moderate', 'Good', 'Moderate', 'Poor', 'Moderate', 'Poor', 'Moderate', 'Moderate', 'Moderate', 'Good', 'Poor', 'Good', 'Moderate', 'Good', 'Good', 'Moderate', 'Poor', 'Good', 'Good', 'Moderate', 'Moderate', 'Good', 'Good', 'Good', 'Good', 'Moderate', 'Good', 'Moderate', 'Good', 'Poor', 'Poor', 'Good', 'Good', 'Moderate', 'Good', 'Poor', 'Poor', 'Moderate', 'Moderate', 'Good', 'Moderate', 'Good', 'Good', 'Poor', 'Good', 'Good', 'Moderate', 'Poor', 'Moderate', 'Moderate', 'Good', 'Moderate', 'Good', 'Good', 'Poor', 'Good', 'Poor', 'Poor', 'Moderate', 'Good', 'Moderate', 'Good', 'Moderate', 'Good', 'Poor', 'Good', 'Poor', 'Poor', 'Good', 'Poor', 'Good', 'Moderate', 'Moderate', 'Poor', 'Good', 'Moderate', 'Poor', 'Poor', 'Good', 'Good', 'Good', 'Moderate', 'Moderate', 'Good', 'Moderate', 'Good', 'Moderate', 'Poor', 'Poor', 'Good', 'Good', 'Good', 'Good', 'Poor', 'Moderate', 'Good', 'Good', 'Good', 'Moderate', 'Good', 'Poor', 'Moderate', 'Poor', 'Poor', 'Poor', 'Good', 'Poor', 'Moderate', 'Moderate', 'Good', 'Moderate', 'Poor', 'Good', 'Good', 'Good', 'Poor', 'Poor', 'Moderate', 'Poor', 'Poor', 'Moderate', 'Good', 'Good', 'Good', 'Good', 'Good', 'Good', 'Good', 'Moderate', 'Poor', 'Poor', 'Moderate', 'Poor', 'Poor', 'Moderate', 'Moderate', 'Moderate', 'Poor', 'Good', 'Poor', 'Poor', 'Good', 'Moderate', 'Good', 'Moderate', 'Moderate', 'Poor', 'Good', 'Moderate', 'Good', 'Good', 'Poor', 'Poor', 'Poor', 'Poor', 'Moderate', 'Good', 'Good', 'Moderate', 'Good', 'Moderate', 'Good', 'Moderate', 'Poor', 'Good', 'Good', 'Moderate', 'Moderate', 'Good', 'Moderate', 'Moderate', 'Moderate', 'Poor', 'Moderate', 'Poor', 'Moderate', 'Moderate', 'Good', 'Good', 'Moderate', 'Poor', 'Poor', 'Good', 'Moderate', 'Moderate', 'Good', 'Good', 'Poor', 'Moderate', 'Moderate', 'Moderate', 'Moderate', 'Good', 'Moderate', 'Poor', 'Good', 'Poor', 'Good', 'Good', 'Moderate', 'Good', 'Moderate', 'Good', 'Good', 'Moderate', 'Moderate', 'Poor', 'Moderate', 'Good', 'Good', 'Moderate', 'Moderate', 'Good', 'Moderate', 'Good', 'Good', 'Moderate', 'Poor', 'Moderate', 'Moderate', 'Moderate', 'Good', 'Poor', 'Moderate', 'Moderate', 'Moderate', 'Good', 'Moderate', 'Good', 'Good', 'Poor', 'Moderate', 'Good', 'Good', 'Moderate', 'Poor', 'Good', 'Good', 'Poor', 'Good', 'Poor', 'Poor', 'Moderate', 'Moderate', 'Good', 'Moderate', 'Good', 'Good', 'Good', 'Moderate', 'Moderate', 'Poor', 'Good', 'Moderate', 'Moderate', 'Moderate', 'Poor', 'Good', 'Good', 'Moderate', 'Poor', 'Good', 'Good', 'Moderate', 'Moderate', 'Moderate', 'Poor', 'Moderate', 'Good', 'Moderate', 'Good', 'Poor', 'Moderate', 'Good', 'Moderate', 'Good', 'Poor', 'Poor', 'Good', 'Poor', 'Poor', 'Good', 'Moderate', 'Poor', 'Good', 'Good', 'Good', 'Moderate', 'Poor', 'Poor', 'Poor', 'Good', 'Good', 'Poor', 'Good', 'Good', 'Poor', 'Moderate', 'Moderate', 'Moderate', 'Moderate', 'Poor', 'Poor', 'Good', 'Poor', 'Good', 'Moderate', 'Good', 'Good', 'Moderate', 'Poor', 'Good', 'Moderate', 'Poor', 'Poor', 'Good', 'Good', 'Good', 'Moderate', 'Moderate', 'Poor', 'Good', 'Good', 'Poor', 'Poor', 'Good', 'Moderate', 'Moderate', 'Good', 'Poor', 'Good', 'Moderate', 'Moderate', 'Good', 'Moderate', 'Good', 'Moderate', 'Moderate', 'Good', 'Good', 'Moderate', 'Good', 'Poor', 'Good', 'Poor', 'Poor', 'Moderate', 'Good', 'Poor', 'Good', 'Good', 'Moderate', 'Poor', 'Poor', 'Good', 'Good', 'Good', 'Poor', 'Good', 'Poor', 'Good', 'Good', 'Good', 'Good', 'Good', 'Poor', 'Moderate', 'Moderate', 'Moderate', 'Poor', 'Good', 'Poor', 'Poor', 'Poor', 'Poor', 'Poor', 'Moderate', 'Good', 'Good', 'Good', 'Poor', 'Good', 'Good', 'Moderate', 'Poor', 'Poor', 'Moderate', 'Good', 'Good', 'Good', 'Moderate', 'Poor', 'Moderate', 'Good', 'Moderate', 'Good', 'Good', 'Poor', 'Moderate', 'Moderate', 'Poor', 'Good', 'Good', 'Good', 'Good', 'Good', 'Good', 'Poor', 'Poor', 'Moderate', 'Moderate', 'Good', 'Poor', 'Moderate', 'Good', 'Good', 'Good', 'Moderate', 'Moderate', 'Poor', 'Good', 'Moderate', 'Moderate', 'Good', 'Moderate', 'Good', 'Moderate', 'Moderate', 'Poor', 'Moderate', 'Poor', 'Good', 'Good', 'Good', 'Moderate', 'Good', 'Poor', 'Poor', 'Moderate', 'Good', 'Good', 'Moderate', 'Poor', 'Good', 'Poor', 'Good', 'Poor', 'Good', 'Good', 'Good', 'Poor', 'Good', 'Moderate', 'Good', 'Good', 'Good', 'Good', 'Poor', 'Good', 'Good', 'Poor', 'Good', 'Good', 'Moderate', 'Good', 'Good', 'Moderate', 'Moderate', 'Poor', 'Good', 'Good', 'Moderate', 'Good', 'Moderate', 'Moderate', 'Good', 'Good', 'Poor', 'Poor', 'Good', 'Poor', 'Good', 'Poor', 'Moderate', 'Good', 'Moderate']\n",
      "CREADO Archivo predicciones_test.csv\n"
     ]
    }
   ],
   "source": [
    "x_test = pd.read_csv('practica_X_test.csv', sep=';', index_col=0)\n",
    "x_test_scaled = scaler.transform(x_test)\n",
    "test_clusters = kmeans.predict(x_test_scaled)\n",
    "\n",
    "# Asignar etiquetas a los ejemplos de test basados en la relación cluster-etiqueta\n",
    "test_labels = [cluster_to_label[cluster] for cluster in test_clusters]\n",
    "print(\"Etiquetas asignadas a los ejemplos de test:\")\n",
    "print(test_labels)\n",
    "\n",
    "# Guardar las etiquetas predichas en un archivo CSV\n",
    "test_labels_df = pd.DataFrame(test_labels, columns=['Air_Quality'], index=x_test.index)\n",
    "test_labels_df.to_csv('predicciones_test.csv', sep=';')\n",
    "print(\"CREADO Archivo predicciones_test.csv\")"
   ]
<<<<<<< HEAD
=======
  },
  {
   "cell_type": "markdown",
   "id": "fe865c35",
   "metadata": {},
   "source": [
    "3.2.4 Si tenemos etiquetas asociadas a los datos ¿Se puede utilizar clustering para hacer clasificación?"
   ]
  },
  {
   "cell_type": "code",
   "execution_count": 7,
   "id": "6f20cd6d",
   "metadata": {},
   "outputs": [
    {
     "name": "stdout",
     "output_type": "stream",
     "text": [
      "\n",
      "Sí, se puede utilizar clustering para hacer clasificación, pero con limitaciones. \n",
      "El clustering es un método no supervisado, por lo que no utiliza las etiquetas reales durante el entrenamiento. \n",
      "Sin embargo, si existe una fuerte correlación entre los clusters y las etiquetas, se puede usar esta relación para clasificar nuevos datos.\n",
      "\n"
     ]
    }
   ],
   "source": [
    "respuesta = \"\"\"\n",
    "Sí, se puede utilizar clustering para hacer clasificación, pero con limitaciones. \n",
    "El clustering es un método no supervisado, por lo que no utiliza las etiquetas reales durante el entrenamiento. \n",
    "Sin embargo, si existe una fuerte correlación entre los clusters y las etiquetas, se puede usar esta relación para clasificar nuevos datos.\n",
    "\"\"\" # La doble comilla es para que me deje poner frases de mas de 1 linea\n",
    "print(respuesta)"
   ]
>>>>>>> 69054a4 (pickle)
  }
 ],
 "metadata": {
  "kernelspec": {
   "display_name": "Python 3",
   "language": "python",
   "name": "python3"
  },
  "language_info": {
   "codemirror_mode": {
    "name": "ipython",
    "version": 3
   },
   "file_extension": ".py",
   "mimetype": "text/x-python",
   "name": "python",
   "nbconvert_exporter": "python",
   "pygments_lexer": "ipython3",
   "version": "3.13.3"
  }
 },
 "nbformat": 4,
 "nbformat_minor": 5
}
