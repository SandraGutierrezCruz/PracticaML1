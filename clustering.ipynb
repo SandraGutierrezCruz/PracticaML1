{
 "cells": [
  {
   "cell_type": "code",
   "execution_count": 1,
   "id": "28b71161",
   "metadata": {},
   "outputs": [],
   "source": [
    "from sklearn.cluster import KMeans\n",
    "from sklearn.preprocessing import StandardScaler\n",
    "import pandas as pd\n",
    "import numpy as np\n",
    "from sklearn.model_selection import train_test_split\n"
   ]
  },
  {
   "cell_type": "markdown",
   "id": "cce3ec24",
   "metadata": {},
   "source": [
    "Cargar y dividir datos"
   ]
  },
  {
   "cell_type": "code",
   "execution_count": 2,
   "id": "8a262298",
   "metadata": {},
   "outputs": [],
   "source": [
    "x_train = pd.read_csv('practica_X_train.csv', sep=';', index_col=0)\n",
    "y_train = pd.read_csv('practica_Y_train.csv', sep=';', index_col=0)\n",
    "x_train, x_val, y_train, y_val = train_test_split(x_train, y_train, test_size=0.2, random_state=42)\n"
   ]
  },
  {
   "cell_type": "markdown",
   "id": "8ea2b83d",
   "metadata": {},
   "source": [
    "Clustering sobre el conjunto de entrenamiento"
   ]
  },
  {
   "cell_type": "code",
   "execution_count": 3,
   "id": "3baa0a16",
   "metadata": {},
   "outputs": [],
   "source": [
    "scaler = StandardScaler()\n",
    "x_train_scaled = scaler.fit_transform(x_train)\n",
    "n_clusters = y_train['Air_Quality'].nunique()\n",
    "kmeans = KMeans(n_clusters=n_clusters, random_state=42)\n",
    "clusters = kmeans.fit_predict(x_train_scaled)"
   ]
  },
  {
   "cell_type": "markdown",
   "id": "1ab11f01",
   "metadata": {},
   "source": [
    "Relación clusters-etiqueta"
   ]
  },
  {
   "cell_type": "code",
   "execution_count": 4,
   "id": "a7e5a44d",
   "metadata": {},
   "outputs": [
    {
     "name": "stdout",
     "output_type": "stream",
     "text": [
      "Relación entre clusters y etiquetas:\n",
      "{0: 'Good', 1: 'Moderate', 2: 'Poor', 3: 'Poor'}\n"
     ]
    }
   ],
   "source": [
    "y_train = y_train.copy()\n",
    "y_train['Cluster'] = clusters\n",
    "cluster_to_label = {}\n",
    "for cluster in range(n_clusters):\n",
    "    mask = y_train['Cluster'] == cluster\n",
    "    most_common_label = y_train[mask]['Air_Quality'].mode()[0]\n",
    "    cluster_to_label[cluster] = most_common_label\n",
    "\n",
    "print(\"Relación entre clusters y etiquetas:\")\n",
    "print(cluster_to_label)"
   ]
  },
  {
   "cell_type": "markdown",
   "id": "38836847",
   "metadata": {},
   "source": [
    "Asignar etiquetas a los ejemplos de test"
   ]
  },
  {
   "cell_type": "code",
   "execution_count": 5,
   "id": "ce74aec5",
   "metadata": {},
   "outputs": [
    {
     "name": "stdout",
     "output_type": "stream",
     "text": [
      "Etiquetas asignadas a los ejemplos de test:\n",
      "['Moderate', 'Poor', 'Good', 'Good', 'Good', 'Moderate', 'Poor', 'Poor', 'Good', 'Moderate', 'Poor', 'Poor', 'Moderate', 'Good', 'Moderate', 'Moderate', 'Good', 'Moderate', 'Poor', 'Good', 'Moderate', 'Good', 'Moderate', 'Poor', 'Good', 'Moderate', 'Poor', 'Good', 'Poor', 'Good', 'Good', 'Moderate', 'Good', 'Good', 'Moderate', 'Poor', 'Poor', 'Moderate', 'Good', 'Good', 'Poor', 'Moderate', 'Moderate', 'Poor', 'Good', 'Good', 'Moderate', 'Good', 'Moderate', 'Poor', 'Moderate', 'Moderate', 'Good', 'Moderate', 'Good', 'Good', 'Poor', 'Good', 'Moderate', 'Good', 'Good', 'Good', 'Moderate', 'Moderate', 'Good', 'Good', 'Moderate', 'Poor', 'Good', 'Poor', 'Poor', 'Poor', 'Poor', 'Good', 'Moderate', 'Moderate', 'Moderate', 'Good', 'Good', 'Good', 'Moderate', 'Moderate', 'Moderate', 'Poor', 'Good', 'Good', 'Good', 'Moderate', 'Good', 'Good', 'Good', 'Poor', 'Poor', 'Good', 'Poor', 'Poor', 'Good', 'Moderate', 'Moderate', 'Good', 'Good', 'Poor', 'Good', 'Good', 'Poor', 'Poor', 'Good', 'Moderate', 'Moderate', 'Moderate', 'Good', 'Poor', 'Moderate', 'Moderate', 'Good', 'Poor', 'Poor', 'Good', 'Good', 'Good', 'Good', 'Moderate', 'Poor', 'Moderate', 'Moderate', 'Moderate', 'Moderate', 'Good', 'Poor', 'Good', 'Moderate', 'Moderate', 'Moderate', 'Poor', 'Poor', 'Good', 'Good', 'Moderate', 'Poor', 'Good', 'Good', 'Good', 'Good', 'Poor', 'Poor', 'Moderate', 'Poor', 'Good', 'Moderate', 'Good', 'Good', 'Good', 'Poor', 'Moderate', 'Good', 'Moderate', 'Poor', 'Moderate', 'Moderate', 'Poor', 'Good', 'Moderate', 'Poor', 'Good', 'Poor', 'Good', 'Poor', 'Good', 'Good', 'Moderate', 'Good', 'Poor', 'Poor', 'Good', 'Good', 'Moderate', 'Moderate', 'Poor', 'Moderate', 'Moderate', 'Poor', 'Good', 'Moderate', 'Good', 'Moderate', 'Poor', 'Poor', 'Good', 'Good', 'Poor', 'Moderate', 'Moderate', 'Good', 'Good', 'Moderate', 'Poor', 'Moderate', 'Good', 'Poor', 'Moderate', 'Poor', 'Poor', 'Moderate', 'Good', 'Good', 'Moderate', 'Moderate', 'Good', 'Poor', 'Good', 'Poor', 'Moderate', 'Good', 'Poor', 'Moderate', 'Poor', 'Moderate', 'Moderate', 'Poor', 'Good', 'Good', 'Moderate', 'Good', 'Poor', 'Moderate', 'Poor', 'Moderate', 'Moderate', 'Poor', 'Good', 'Moderate', 'Poor', 'Moderate', 'Good', 'Moderate', 'Moderate', 'Good', 'Poor', 'Poor', 'Moderate', 'Poor', 'Moderate', 'Moderate', 'Moderate', 'Good', 'Poor', 'Moderate', 'Poor', 'Moderate', 'Good', 'Good', 'Poor', 'Good', 'Moderate', 'Moderate', 'Good', 'Good', 'Good', 'Moderate', 'Good', 'Good', 'Poor', 'Moderate', 'Good', 'Good', 'Poor', 'Good', 'Moderate', 'Good', 'Poor', 'Moderate', 'Poor', 'Good', 'Poor', 'Moderate', 'Good', 'Poor', 'Moderate', 'Moderate', 'Good', 'Moderate', 'Moderate', 'Moderate', 'Poor', 'Good', 'Poor', 'Poor', 'Good', 'Good', 'Moderate', 'Good', 'Good', 'Moderate', 'Moderate', 'Moderate', 'Poor', 'Good', 'Good', 'Poor', 'Poor', 'Moderate', 'Poor', 'Poor', 'Good', 'Poor', 'Good', 'Moderate', 'Moderate', 'Moderate', 'Good', 'Poor', 'Poor', 'Good', 'Poor', 'Good', 'Good', 'Poor', 'Poor', 'Good', 'Good', 'Poor', 'Moderate', 'Moderate', 'Moderate', 'Moderate', 'Moderate', 'Moderate', 'Poor', 'Good', 'Moderate', 'Moderate', 'Moderate', 'Moderate', 'Moderate', 'Good', 'Good', 'Moderate', 'Moderate', 'Poor', 'Good', 'Good', 'Good', 'Moderate', 'Poor', 'Poor', 'Poor', 'Moderate', 'Good', 'Poor', 'Good', 'Poor', 'Moderate', 'Moderate', 'Poor', 'Good', 'Good', 'Good', 'Poor', 'Poor', 'Poor', 'Good', 'Moderate', 'Good', 'Good', 'Good', 'Good', 'Moderate', 'Good', 'Good', 'Moderate', 'Moderate', 'Poor', 'Good', 'Moderate', 'Moderate', 'Poor', 'Good', 'Good', 'Good', 'Moderate', 'Poor', 'Good', 'Moderate', 'Good', 'Good', 'Moderate', 'Moderate', 'Good', 'Poor', 'Poor', 'Moderate', 'Good', 'Good', 'Good', 'Poor', 'Moderate', 'Good', 'Good', 'Poor', 'Moderate', 'Good', 'Good', 'Poor', 'Good', 'Poor', 'Good', 'Moderate', 'Poor', 'Good', 'Good', 'Moderate', 'Good', 'Good', 'Good', 'Moderate', 'Good', 'Good', 'Good', 'Moderate', 'Moderate', 'Good', 'Good', 'Good', 'Good', 'Poor', 'Moderate', 'Moderate', 'Poor', 'Good', 'Moderate', 'Poor', 'Moderate', 'Good', 'Good', 'Moderate', 'Poor', 'Good', 'Good', 'Moderate', 'Good', 'Poor', 'Poor', 'Moderate', 'Moderate', 'Good', 'Poor', 'Moderate', 'Moderate', 'Good', 'Good', 'Good', 'Good', 'Poor', 'Moderate', 'Good', 'Good', 'Moderate', 'Poor', 'Good', 'Moderate', 'Good', 'Good', 'Moderate', 'Good', 'Good', 'Good', 'Good', 'Poor', 'Poor', 'Good', 'Good', 'Good', 'Good', 'Good', 'Good', 'Moderate', 'Poor', 'Poor', 'Moderate', 'Good', 'Good', 'Good', 'Moderate', 'Moderate', 'Good', 'Poor', 'Moderate', 'Moderate', 'Moderate', 'Moderate', 'Poor', 'Moderate', 'Poor', 'Moderate', 'Poor', 'Moderate', 'Moderate', 'Moderate', 'Moderate', 'Good', 'Good', 'Good', 'Moderate', 'Good', 'Good', 'Moderate', 'Good', 'Good', 'Good', 'Poor', 'Poor', 'Good', 'Poor', 'Moderate', 'Moderate', 'Good', 'Moderate', 'Poor', 'Moderate', 'Poor', 'Moderate', 'Moderate', 'Moderate', 'Good', 'Poor', 'Good', 'Moderate', 'Good', 'Good', 'Moderate', 'Poor', 'Good', 'Good', 'Moderate', 'Moderate', 'Good', 'Good', 'Good', 'Good', 'Moderate', 'Good', 'Moderate', 'Good', 'Poor', 'Poor', 'Good', 'Good', 'Moderate', 'Good', 'Poor', 'Poor', 'Moderate', 'Moderate', 'Good', 'Moderate', 'Good', 'Good', 'Poor', 'Good', 'Good', 'Moderate', 'Poor', 'Moderate', 'Moderate', 'Good', 'Moderate', 'Good', 'Good', 'Poor', 'Good', 'Poor', 'Poor', 'Moderate', 'Good', 'Moderate', 'Good', 'Moderate', 'Good', 'Poor', 'Good', 'Poor', 'Poor', 'Good', 'Poor', 'Good', 'Moderate', 'Moderate', 'Poor', 'Good', 'Moderate', 'Poor', 'Poor', 'Good', 'Good', 'Good', 'Moderate', 'Moderate', 'Good', 'Moderate', 'Good', 'Moderate', 'Poor', 'Poor', 'Good', 'Good', 'Good', 'Good', 'Poor', 'Moderate', 'Good', 'Good', 'Good', 'Moderate', 'Good', 'Poor', 'Moderate', 'Poor', 'Poor', 'Poor', 'Good', 'Poor', 'Moderate', 'Moderate', 'Good', 'Moderate', 'Poor', 'Good', 'Good', 'Good', 'Poor', 'Poor', 'Moderate', 'Poor', 'Poor', 'Moderate', 'Good', 'Good', 'Good', 'Good', 'Good', 'Good', 'Good', 'Moderate', 'Poor', 'Poor', 'Moderate', 'Poor', 'Poor', 'Moderate', 'Moderate', 'Moderate', 'Poor', 'Good', 'Poor', 'Poor', 'Good', 'Moderate', 'Good', 'Moderate', 'Moderate', 'Poor', 'Good', 'Moderate', 'Good', 'Good', 'Poor', 'Poor', 'Poor', 'Poor', 'Moderate', 'Good', 'Good', 'Moderate', 'Good', 'Moderate', 'Good', 'Moderate', 'Poor', 'Good', 'Good', 'Moderate', 'Moderate', 'Good', 'Moderate', 'Moderate', 'Moderate', 'Poor', 'Moderate', 'Poor', 'Moderate', 'Moderate', 'Good', 'Good', 'Moderate', 'Poor', 'Poor', 'Good', 'Moderate', 'Moderate', 'Good', 'Good', 'Poor', 'Moderate', 'Moderate', 'Moderate', 'Moderate', 'Good', 'Moderate', 'Poor', 'Good', 'Poor', 'Good', 'Good', 'Moderate', 'Good', 'Moderate', 'Good', 'Good', 'Moderate', 'Moderate', 'Poor', 'Moderate', 'Good', 'Good', 'Moderate', 'Moderate', 'Good', 'Moderate', 'Good', 'Good', 'Moderate', 'Poor', 'Moderate', 'Moderate', 'Moderate', 'Good', 'Poor', 'Moderate', 'Moderate', 'Moderate', 'Good', 'Moderate', 'Good', 'Good', 'Poor', 'Moderate', 'Good', 'Good', 'Moderate', 'Poor', 'Good', 'Good', 'Poor', 'Good', 'Poor', 'Poor', 'Moderate', 'Moderate', 'Good', 'Moderate', 'Good', 'Good', 'Good', 'Moderate', 'Moderate', 'Poor', 'Good', 'Moderate', 'Moderate', 'Moderate', 'Poor', 'Good', 'Good', 'Moderate', 'Poor', 'Good', 'Good', 'Moderate', 'Moderate', 'Moderate', 'Poor', 'Moderate', 'Good', 'Moderate', 'Good', 'Poor', 'Moderate', 'Good', 'Moderate', 'Good', 'Poor', 'Poor', 'Good', 'Poor', 'Poor', 'Good', 'Moderate', 'Poor', 'Good', 'Good', 'Good', 'Moderate', 'Poor', 'Poor', 'Poor', 'Good', 'Good', 'Poor', 'Good', 'Good', 'Poor', 'Moderate', 'Moderate', 'Moderate', 'Moderate', 'Poor', 'Poor', 'Good', 'Poor', 'Good', 'Moderate', 'Good', 'Good', 'Moderate', 'Poor', 'Good', 'Moderate', 'Poor', 'Poor', 'Good', 'Good', 'Good', 'Moderate', 'Moderate', 'Poor', 'Good', 'Good', 'Poor', 'Poor', 'Good', 'Moderate', 'Moderate', 'Good', 'Poor', 'Good', 'Moderate', 'Moderate', 'Good', 'Moderate', 'Good', 'Moderate', 'Moderate', 'Good', 'Good', 'Moderate', 'Good', 'Poor', 'Good', 'Poor', 'Poor', 'Moderate', 'Good', 'Poor', 'Good', 'Good', 'Moderate', 'Poor', 'Poor', 'Good', 'Good', 'Good', 'Poor', 'Good', 'Poor', 'Good', 'Good', 'Good', 'Good', 'Good', 'Poor', 'Moderate', 'Moderate', 'Moderate', 'Poor', 'Good', 'Poor', 'Poor', 'Poor', 'Poor', 'Poor', 'Moderate', 'Good', 'Good', 'Good', 'Poor', 'Good', 'Good', 'Moderate', 'Poor', 'Poor', 'Moderate', 'Good', 'Good', 'Good', 'Moderate', 'Poor', 'Moderate', 'Good', 'Moderate', 'Good', 'Good', 'Poor', 'Moderate', 'Moderate', 'Poor', 'Good', 'Good', 'Good', 'Good', 'Good', 'Good', 'Poor', 'Poor', 'Moderate', 'Moderate', 'Good', 'Poor', 'Moderate', 'Good', 'Good', 'Good', 'Moderate', 'Moderate', 'Poor', 'Good', 'Moderate', 'Moderate', 'Good', 'Moderate', 'Good', 'Moderate', 'Moderate', 'Poor', 'Moderate', 'Poor', 'Good', 'Good', 'Good', 'Moderate', 'Good', 'Poor', 'Poor', 'Moderate', 'Good', 'Good', 'Moderate', 'Poor', 'Good', 'Poor', 'Good', 'Poor', 'Good', 'Good', 'Good', 'Poor', 'Good', 'Moderate', 'Good', 'Good', 'Good', 'Good', 'Poor', 'Good', 'Good', 'Poor', 'Good', 'Good', 'Moderate', 'Good', 'Good', 'Moderate', 'Moderate', 'Poor', 'Good', 'Good', 'Moderate', 'Good', 'Moderate', 'Moderate', 'Good', 'Good', 'Poor', 'Poor', 'Good', 'Poor', 'Good', 'Poor', 'Moderate', 'Good', 'Moderate']\n"
     ]
    }
   ],
   "source": [
    "x_test = pd.read_csv('practica_X_test.csv', sep=';', index_col=0)\n",
    "x_test_scaled = scaler.transform(x_test)\n",
    "test_clusters = kmeans.predict(x_test_scaled)\n",
    "test_labels = [cluster_to_label[cluster] for cluster in test_clusters]\n",
    "\n",
    "print(\"Etiquetas asignadas a los ejemplos de test:\")\n",
    "print(test_labels)"
   ]
  },
  {
   "cell_type": "markdown",
   "id": "0e7ba4c1",
   "metadata": {},
   "source": [
    "Guardar predicciones en CSV"
   ]
  },
  {
   "cell_type": "code",
   "execution_count": 6,
   "id": "03f55637",
   "metadata": {},
   "outputs": [
    {
     "name": "stdout",
     "output_type": "stream",
     "text": [
      "CREADO Archivo predicciones_test.csv\n"
     ]
    }
   ],
   "source": [
    "test_labels_df = pd.DataFrame(test_labels, columns=['Air_Quality'], index=x_test.index)\n",
    "test_labels_df.to_csv('predicciones_test.csv', sep=';')\n",
    "print(\"CREADO Archivo predicciones_test.csv\")"
   ]
  }
 ],
 "metadata": {
  "kernelspec": {
   "display_name": "Python 3",
   "language": "python",
   "name": "python3"
  },
  "language_info": {
   "codemirror_mode": {
    "name": "ipython",
    "version": 3
   },
   "file_extension": ".py",
   "mimetype": "text/x-python",
   "name": "python",
   "nbconvert_exporter": "python",
   "pygments_lexer": "ipython3",
   "version": "3.13.3"
  }
 },
 "nbformat": 4,
 "nbformat_minor": 5
}
