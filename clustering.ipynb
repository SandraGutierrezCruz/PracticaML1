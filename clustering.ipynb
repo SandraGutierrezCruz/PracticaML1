{
 "cells": [
  {
   "cell_type": "code",
   "execution_count": 3,
   "id": "82a69fa8",
   "metadata": {},
   "outputs": [],
   "source": [
    "from sklearn.cluster import KMeans\n",
    "from sklearn.preprocessing import StandardScaler\n",
    "from sklearn.metrics import accuracy_score\n",
    "import pandas as pd\n",
    "import numpy as np\n",
    "import matplotlib.pyplot as plt\n",
    "from sklearn.model_selection import train_test_split"
   ]
  },
  {
   "cell_type": "code",
   "execution_count": 4,
   "id": "83ef8d1b",
   "metadata": {},
   "outputs": [
    {
     "name": "stdout",
     "output_type": "stream",
     "text": [
      "Tamaño x_train: (3200, 9)\n",
      "Tamaño x_test: (800, 9)\n",
      "      Temperature  Humidity  PM2.5  PM10  NO2  SO2   CO  \\\n",
      "2386          5.0       6.0    3.0   4.0  6.0  4.0  5.0   \n",
      "4737          2.0       2.0    0.0   1.0  3.0  1.0  0.0   \n",
      "1153          2.0       2.0    0.0   0.0  3.0  2.0  1.0   \n",
      "3840          5.0       5.0    0.0   1.0  4.0  1.0  7.0   \n",
      "4229          3.0       3.0    0.0   1.0  5.0  4.0  4.0   \n",
      "\n",
      "      Proximity_to_Industrial_Areas  Population_Density  \n",
      "2386                            1.0                 5.0  \n",
      "4737                            3.0                 4.0  \n",
      "1153                            3.0                 2.0  \n",
      "3840                            2.0                 4.0  \n",
      "4229                            3.0                 2.0  \n",
      "     Air_Quality\n",
      "2386   Hazardous\n",
      "4737        Good\n",
      "1153        Good\n",
      "3840        Poor\n",
      "4229        Poor\n"
     ]
    }
   ],
   "source": [
    "x_train = pd.read_csv('practica_X_train.csv', sep=';', index_col=0)\n",
    "y_train = pd.read_csv('practica_Y_train.csv', sep=';', index_col=0)\n",
    "\n",
    "# Dividir los datos en conjuntos de entrenamiento y validación\n",
    "x_train, x_val, y_train, y_val = train_test_split(x_train, y_train, test_size=0.2, random_state=42)\n",
    "\n",
    "y_train_copy = y_train.copy()\n",
    "# Verificar las dimensiones de los conjuntos\n",
    "print(\"Tamaño x_train:\", x_train.shape)\n",
    "print(\"Tamaño x_test:\", x_val.shape)\n",
    "\n",
    "print(x_train.head())\n",
    "print(y_train.head())\n",
    "\n",
    "#recomendado hacer k_fold para conjunto de entrenamiento y validacion"
   ]
  },
  {
   "cell_type": "markdown",
   "id": "5cadb334",
   "metadata": {},
   "source": [
    "3.1 Realizacion de clustering sobre el conjunto de datos practica_X_train.csv"
   ]
  },
  {
   "cell_type": "code",
   "execution_count": 5,
   "id": "50f04da3",
   "metadata": {},
   "outputs": [],
   "source": [
    "# Escalar los datos\n",
    "scaler = StandardScaler()\n",
    "x_train_scaled = scaler.fit_transform(x_train)\n",
    "\n",
    "# Elegir el número de clusters igual al número de clases en y_train\n",
    "n_clusters = len(y_train['Air_Quality'].unique())\n",
    "kmeans = KMeans(n_clusters=n_clusters, random_state=42)\n",
    "clusters = kmeans.fit_predict(x_train_scaled)"
   ]
  },
  {
   "cell_type": "markdown",
   "id": "569406fe",
   "metadata": {},
   "source": [
    "3.2.2 Comparacion etiqueta de cada ejemplo de entrenamiento con el cluster asignado ¿Es posible crear una relación entre ambas?"
   ]
  },
  {
   "cell_type": "code",
   "execution_count": 7,
   "id": "ef3e6e5e",
   "metadata": {},
   "outputs": [
    {
     "name": "stdout",
     "output_type": "stream",
     "text": [
      "Relación entre clusters y etiquetas:\n",
      "{0: 'Good', 1: 'Moderate', 2: 'Poor', 3: 'Poor'}\n"
     ]
    }
   ],
   "source": [
    "y_train_copy['Cluster'] = clusters\n",
    "cluster_to_label = {}\n",
    "for cluster in range(n_clusters):\n",
    "    mask = y_train_copy['Cluster'] == cluster\n",
    "    most_common_label = y_train_copy[mask]['Air_Quality'].mode()[0]\n",
    "    cluster_to_label[cluster] = most_common_label\n",
    "\n",
    "# Mostrar la relación entre clusters y etiquetas\n",
    "print(\"Relación entre clusters y etiquetas:\")\n",
    "print(cluster_to_label)"
   ]
  },
  {
   "cell_type": "markdown",
   "id": "11cabc36",
   "metadata": {},
   "source": [
    "3.2.3 ¿A que cluster se le asignaría cada ejemplo del conjunto de test si se crea una relacion entre cluster y etiqueta? ¿Qué etiqueta asignarias a cada ejemplo de test?"
   ]
  },
  {
   "cell_type": "code",
   "execution_count": 8,
   "id": "a4360c30",
   "metadata": {},
   "outputs": [
    {
     "name": "stdout",
     "output_type": "stream",
     "text": [
      "Etiquetas asignadas a los ejemplos de test:\n",
      "['Moderate', 'Poor', 'Good', 'Good', 'Good', 'Moderate', 'Poor', 'Poor', 'Good', 'Moderate', 'Poor', 'Poor', 'Moderate', 'Good', 'Moderate', 'Moderate', 'Good', 'Moderate', 'Poor', 'Good', 'Moderate', 'Good', 'Moderate', 'Poor', 'Good', 'Moderate', 'Poor', 'Good', 'Poor', 'Good', 'Good', 'Moderate', 'Good', 'Good', 'Moderate', 'Poor', 'Poor', 'Moderate', 'Good', 'Good', 'Poor', 'Moderate', 'Moderate', 'Poor', 'Good', 'Good', 'Moderate', 'Good', 'Moderate', 'Poor', 'Moderate', 'Moderate', 'Good', 'Moderate', 'Good', 'Good', 'Poor', 'Good', 'Moderate', 'Good', 'Good', 'Good', 'Moderate', 'Moderate', 'Good', 'Good', 'Moderate', 'Poor', 'Good', 'Poor', 'Poor', 'Poor', 'Poor', 'Good', 'Moderate', 'Moderate', 'Moderate', 'Good', 'Good', 'Good', 'Moderate', 'Moderate', 'Moderate', 'Poor', 'Good', 'Good', 'Good', 'Moderate', 'Good', 'Good', 'Good', 'Poor', 'Poor', 'Good', 'Poor', 'Poor', 'Good', 'Moderate', 'Moderate', 'Good', 'Good', 'Poor', 'Good', 'Good', 'Poor', 'Poor', 'Good', 'Moderate', 'Moderate', 'Moderate', 'Good', 'Poor', 'Moderate', 'Moderate', 'Good', 'Poor', 'Poor', 'Good', 'Good', 'Good', 'Good', 'Moderate', 'Poor', 'Moderate', 'Moderate', 'Moderate', 'Moderate', 'Good', 'Poor', 'Good', 'Moderate', 'Moderate', 'Moderate', 'Poor', 'Poor', 'Good', 'Good', 'Moderate', 'Poor', 'Good', 'Good', 'Good', 'Good', 'Poor', 'Poor', 'Moderate', 'Poor', 'Good', 'Moderate', 'Good', 'Good', 'Good', 'Poor', 'Moderate', 'Good', 'Moderate', 'Poor', 'Moderate', 'Moderate', 'Poor', 'Good', 'Moderate', 'Poor', 'Good', 'Poor', 'Good', 'Poor', 'Good', 'Good', 'Moderate', 'Good', 'Poor', 'Poor', 'Good', 'Good', 'Moderate', 'Moderate', 'Poor', 'Moderate', 'Moderate', 'Poor', 'Good', 'Moderate', 'Good', 'Moderate', 'Poor', 'Poor', 'Good', 'Good', 'Poor', 'Moderate', 'Moderate', 'Good', 'Good', 'Moderate', 'Poor', 'Moderate', 'Good', 'Poor', 'Moderate', 'Poor', 'Poor', 'Moderate', 'Good', 'Good', 'Moderate', 'Moderate', 'Good', 'Poor', 'Good', 'Poor', 'Moderate', 'Good', 'Poor', 'Moderate', 'Poor', 'Moderate', 'Moderate', 'Poor', 'Good', 'Good', 'Moderate', 'Good', 'Poor', 'Moderate', 'Poor', 'Moderate', 'Moderate', 'Poor', 'Good', 'Moderate', 'Poor', 'Moderate', 'Good', 'Moderate', 'Moderate', 'Good', 'Poor', 'Poor', 'Moderate', 'Poor', 'Moderate', 'Moderate', 'Moderate', 'Good', 'Poor', 'Moderate', 'Poor', 'Moderate', 'Good', 'Good', 'Poor', 'Good', 'Moderate', 'Moderate', 'Good', 'Good', 'Good', 'Moderate', 'Good', 'Good', 'Poor', 'Moderate', 'Good', 'Good', 'Poor', 'Good', 'Moderate', 'Good', 'Poor', 'Moderate', 'Poor', 'Good', 'Poor', 'Moderate', 'Good', 'Poor', 'Moderate', 'Moderate', 'Good', 'Moderate', 'Moderate', 'Moderate', 'Poor', 'Good', 'Poor', 'Poor', 'Good', 'Good', 'Moderate', 'Good', 'Good', 'Moderate', 'Moderate', 'Moderate', 'Poor', 'Good', 'Good', 'Poor', 'Poor', 'Moderate', 'Poor', 'Poor', 'Good', 'Poor', 'Good', 'Moderate', 'Moderate', 'Moderate', 'Good', 'Poor', 'Poor', 'Good', 'Poor', 'Good', 'Good', 'Poor', 'Poor', 'Good', 'Good', 'Poor', 'Moderate', 'Moderate', 'Moderate', 'Moderate', 'Moderate', 'Moderate', 'Poor', 'Good', 'Moderate', 'Moderate', 'Moderate', 'Moderate', 'Moderate', 'Good', 'Good', 'Moderate', 'Moderate', 'Poor', 'Good', 'Good', 'Good', 'Moderate', 'Poor', 'Poor', 'Poor', 'Moderate', 'Good', 'Poor', 'Good', 'Poor', 'Moderate', 'Moderate', 'Poor', 'Good', 'Good', 'Good', 'Poor', 'Poor', 'Poor', 'Good', 'Moderate', 'Good', 'Good', 'Good', 'Good', 'Moderate', 'Good', 'Good', 'Moderate', 'Moderate', 'Poor', 'Good', 'Moderate', 'Moderate', 'Poor', 'Good', 'Good', 'Good', 'Moderate', 'Poor', 'Good', 'Moderate', 'Good', 'Good', 'Moderate', 'Moderate', 'Good', 'Poor', 'Poor', 'Moderate', 'Good', 'Good', 'Good', 'Poor', 'Moderate', 'Good', 'Good', 'Poor', 'Moderate', 'Good', 'Good', 'Poor', 'Good', 'Poor', 'Good', 'Moderate', 'Poor', 'Good', 'Good', 'Moderate', 'Good', 'Good', 'Good', 'Moderate', 'Good', 'Good', 'Good', 'Moderate', 'Moderate', 'Good', 'Good', 'Good', 'Good', 'Poor', 'Moderate', 'Moderate', 'Poor', 'Good', 'Moderate', 'Poor', 'Moderate', 'Good', 'Good', 'Moderate', 'Poor', 'Good', 'Good', 'Moderate', 'Good', 'Poor', 'Poor', 'Moderate', 'Moderate', 'Good', 'Poor', 'Moderate', 'Moderate', 'Good', 'Good', 'Good', 'Good', 'Poor', 'Moderate', 'Good', 'Good', 'Moderate', 'Poor', 'Good', 'Moderate', 'Good', 'Good', 'Moderate', 'Good', 'Good', 'Good', 'Good', 'Poor', 'Poor', 'Good', 'Good', 'Good', 'Good', 'Good', 'Good', 'Moderate', 'Poor', 'Poor', 'Moderate', 'Good', 'Good', 'Good', 'Moderate', 'Moderate', 'Good', 'Poor', 'Moderate', 'Moderate', 'Moderate', 'Moderate', 'Poor', 'Moderate', 'Poor', 'Moderate', 'Poor', 'Moderate', 'Moderate', 'Moderate', 'Moderate', 'Good', 'Good', 'Good', 'Moderate', 'Good', 'Good', 'Moderate', 'Good', 'Good', 'Good', 'Poor', 'Poor', 'Good', 'Poor', 'Moderate', 'Moderate', 'Good', 'Moderate', 'Poor', 'Moderate', 'Poor', 'Moderate', 'Moderate', 'Moderate', 'Good', 'Poor', 'Good', 'Moderate', 'Good', 'Good', 'Moderate', 'Poor', 'Good', 'Good', 'Moderate', 'Moderate', 'Good', 'Good', 'Good', 'Good', 'Moderate', 'Good', 'Moderate', 'Good', 'Poor', 'Poor', 'Good', 'Good', 'Moderate', 'Good', 'Poor', 'Poor', 'Moderate', 'Moderate', 'Good', 'Moderate', 'Good', 'Good', 'Poor', 'Good', 'Good', 'Moderate', 'Poor', 'Moderate', 'Moderate', 'Good', 'Moderate', 'Good', 'Good', 'Poor', 'Good', 'Poor', 'Poor', 'Moderate', 'Good', 'Moderate', 'Good', 'Moderate', 'Good', 'Poor', 'Good', 'Poor', 'Poor', 'Good', 'Poor', 'Good', 'Moderate', 'Moderate', 'Poor', 'Good', 'Moderate', 'Poor', 'Poor', 'Good', 'Good', 'Good', 'Moderate', 'Moderate', 'Good', 'Moderate', 'Good', 'Moderate', 'Poor', 'Poor', 'Good', 'Good', 'Good', 'Good', 'Poor', 'Moderate', 'Good', 'Good', 'Good', 'Moderate', 'Good', 'Poor', 'Moderate', 'Poor', 'Poor', 'Poor', 'Good', 'Poor', 'Moderate', 'Moderate', 'Good', 'Moderate', 'Poor', 'Good', 'Good', 'Good', 'Poor', 'Poor', 'Moderate', 'Poor', 'Poor', 'Moderate', 'Good', 'Good', 'Good', 'Good', 'Good', 'Good', 'Good', 'Moderate', 'Poor', 'Poor', 'Moderate', 'Poor', 'Poor', 'Moderate', 'Moderate', 'Moderate', 'Poor', 'Good', 'Poor', 'Poor', 'Good', 'Moderate', 'Good', 'Moderate', 'Moderate', 'Poor', 'Good', 'Moderate', 'Good', 'Good', 'Poor', 'Poor', 'Poor', 'Poor', 'Moderate', 'Good', 'Good', 'Moderate', 'Good', 'Moderate', 'Good', 'Moderate', 'Poor', 'Good', 'Good', 'Moderate', 'Moderate', 'Good', 'Moderate', 'Moderate', 'Moderate', 'Poor', 'Moderate', 'Poor', 'Moderate', 'Moderate', 'Good', 'Good', 'Moderate', 'Poor', 'Poor', 'Good', 'Moderate', 'Moderate', 'Good', 'Good', 'Poor', 'Moderate', 'Moderate', 'Moderate', 'Moderate', 'Good', 'Moderate', 'Poor', 'Good', 'Poor', 'Good', 'Good', 'Moderate', 'Good', 'Moderate', 'Good', 'Good', 'Moderate', 'Moderate', 'Poor', 'Moderate', 'Good', 'Good', 'Moderate', 'Moderate', 'Good', 'Moderate', 'Good', 'Good', 'Moderate', 'Poor', 'Moderate', 'Moderate', 'Moderate', 'Good', 'Poor', 'Moderate', 'Moderate', 'Moderate', 'Good', 'Moderate', 'Good', 'Good', 'Poor', 'Moderate', 'Good', 'Good', 'Moderate', 'Poor', 'Good', 'Good', 'Poor', 'Good', 'Poor', 'Poor', 'Moderate', 'Moderate', 'Good', 'Moderate', 'Good', 'Good', 'Good', 'Moderate', 'Moderate', 'Poor', 'Good', 'Moderate', 'Moderate', 'Moderate', 'Poor', 'Good', 'Good', 'Moderate', 'Poor', 'Good', 'Good', 'Moderate', 'Moderate', 'Moderate', 'Poor', 'Moderate', 'Good', 'Moderate', 'Good', 'Poor', 'Moderate', 'Good', 'Moderate', 'Good', 'Poor', 'Poor', 'Good', 'Poor', 'Poor', 'Good', 'Moderate', 'Poor', 'Good', 'Good', 'Good', 'Moderate', 'Poor', 'Poor', 'Poor', 'Good', 'Good', 'Poor', 'Good', 'Good', 'Poor', 'Moderate', 'Moderate', 'Moderate', 'Moderate', 'Poor', 'Poor', 'Good', 'Poor', 'Good', 'Moderate', 'Good', 'Good', 'Moderate', 'Poor', 'Good', 'Moderate', 'Poor', 'Poor', 'Good', 'Good', 'Good', 'Moderate', 'Moderate', 'Poor', 'Good', 'Good', 'Poor', 'Poor', 'Good', 'Moderate', 'Moderate', 'Good', 'Poor', 'Good', 'Moderate', 'Moderate', 'Good', 'Moderate', 'Good', 'Moderate', 'Moderate', 'Good', 'Good', 'Moderate', 'Good', 'Poor', 'Good', 'Poor', 'Poor', 'Moderate', 'Good', 'Poor', 'Good', 'Good', 'Moderate', 'Poor', 'Poor', 'Good', 'Good', 'Good', 'Poor', 'Good', 'Poor', 'Good', 'Good', 'Good', 'Good', 'Good', 'Poor', 'Moderate', 'Moderate', 'Moderate', 'Poor', 'Good', 'Poor', 'Poor', 'Poor', 'Poor', 'Poor', 'Moderate', 'Good', 'Good', 'Good', 'Poor', 'Good', 'Good', 'Moderate', 'Poor', 'Poor', 'Moderate', 'Good', 'Good', 'Good', 'Moderate', 'Poor', 'Moderate', 'Good', 'Moderate', 'Good', 'Good', 'Poor', 'Moderate', 'Moderate', 'Poor', 'Good', 'Good', 'Good', 'Good', 'Good', 'Good', 'Poor', 'Poor', 'Moderate', 'Moderate', 'Good', 'Poor', 'Moderate', 'Good', 'Good', 'Good', 'Moderate', 'Moderate', 'Poor', 'Good', 'Moderate', 'Moderate', 'Good', 'Moderate', 'Good', 'Moderate', 'Moderate', 'Poor', 'Moderate', 'Poor', 'Good', 'Good', 'Good', 'Moderate', 'Good', 'Poor', 'Poor', 'Moderate', 'Good', 'Good', 'Moderate', 'Poor', 'Good', 'Poor', 'Good', 'Poor', 'Good', 'Good', 'Good', 'Poor', 'Good', 'Moderate', 'Good', 'Good', 'Good', 'Good', 'Poor', 'Good', 'Good', 'Poor', 'Good', 'Good', 'Moderate', 'Good', 'Good', 'Moderate', 'Moderate', 'Poor', 'Good', 'Good', 'Moderate', 'Good', 'Moderate', 'Moderate', 'Good', 'Good', 'Poor', 'Poor', 'Good', 'Poor', 'Good', 'Poor', 'Moderate', 'Good', 'Moderate']\n",
      "CREADO Archivo predicciones_test.csv\n"
     ]
    }
   ],
   "source": [
    "x_test = pd.read_csv('practica_X_test.csv', sep=';', index_col=0)\n",
    "x_test_scaled = scaler.transform(x_test)\n",
    "test_clusters = kmeans.predict(x_test_scaled)\n",
    "\n",
    "# Asignar etiquetas a los ejemplos de test basados en la relación cluster-etiqueta\n",
    "test_labels = [cluster_to_label[cluster] for cluster in test_clusters]\n",
    "print(\"Etiquetas asignadas a los ejemplos de test:\")\n",
    "print(test_labels)\n",
    "\n",
    "# Guardar las etiquetas predichas en un archivo CSV\n",
    "test_labels_df = pd.DataFrame(test_labels, columns=['Air_Quality'], index=x_test.index)\n",
    "test_labels_df.to_csv('predicciones_test.csv', sep=';')\n",
    "print(\"CREADO Archivo predicciones_test.csv\")"
   ]
  }
 ],
 "metadata": {
  "kernelspec": {
   "display_name": "Python 3",
   "language": "python",
   "name": "python3"
  },
  "language_info": {
   "codemirror_mode": {
    "name": "ipython",
    "version": 3
   },
   "file_extension": ".py",
   "mimetype": "text/x-python",
   "name": "python",
   "nbconvert_exporter": "python",
   "pygments_lexer": "ipython3",
   "version": "3.13.3"
  }
 },
 "nbformat": 4,
 "nbformat_minor": 5
}
